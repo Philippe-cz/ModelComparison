{
 "cells": [
  {
   "cell_type": "markdown",
   "metadata": {},
   "source": [
    "<b>Comparison of deep neural network and decision tree classifier on Titanic dataset</b>"
   ]
  },
  {
   "cell_type": "markdown",
   "metadata": {},
   "source": [
    "<b>Import libraries</b>"
   ]
  },
  {
   "cell_type": "code",
   "execution_count": 1,
   "metadata": {},
   "outputs": [
    {
     "name": "stdout",
     "output_type": "stream",
     "text": [
      "Tensorflow version:  2.11.0\n",
      "Numpy version 1.24.1\n"
     ]
    }
   ],
   "source": [
    "#Load libraries\n",
    "import pandas as pd\n",
    "import tensorflow as tf\n",
    "import random\n",
    "import numpy as np\n",
    "from tensorflow.keras.callbacks import EarlyStopping\n",
    "from tensorflow.keras.callbacks import ReduceLROnPlateau\n",
    "from tensorflow.keras.callbacks import ModelCheckpoint\n",
    "from sklearn.model_selection import train_test_split\n",
    "from sklearn.metrics import accuracy_score\n",
    "from sklearn.metrics import recall_score\n",
    "from sklearn.metrics import precision_score\n",
    "from sklearn.metrics import f1_score\n",
    "from sklearn.metrics import confusion_matrix\n",
    "from sklearn.metrics import classification_report\n",
    "\n",
    "#Define custom functions\n",
    "def DisplayMetrics(y_true,pred):\n",
    "    dicti_metrics = {}\n",
    "    accuracy = round(accuracy_score(y_true,pred),3)\n",
    "    recall = round(recall_score(y_true,pred),3)\n",
    "    precision = round(precision_score(y_true,pred),3)\n",
    "    f1 = round(f1_score(y_true,pred),3)\n",
    "    print(\"accuracy: \", accuracy)\n",
    "    print(\"recall: \", recall)\n",
    "    print(\"precission: \", precision)\n",
    "    print(\"F1-score: \", f1)\n",
    "    print(\"\\n confusion matrix\\n\",confusion_matrix(y_true,pred))\n",
    "    print(\"\\n\", classification_report(y_true, pred))\n",
    "    \n",
    "    return {'Accuracy':[accuracy],'Recall':[recall],'Precision':[precision], 'F1':[f1]}\n",
    "\n",
    "#Set tf and np seeds\n",
    "# tf.random.set_seed(7788)\n",
    "# np.random.seed(7788)\n",
    "\n",
    "#Print versions\n",
    "print(\"Tensorflow version: \", tf. __version__) \n",
    "print(\"Numpy version\",np. __version__) "
   ]
  },
  {
   "cell_type": "markdown",
   "metadata": {},
   "source": [
    "<b>Load training data</b>"
   ]
  },
  {
   "cell_type": "code",
   "execution_count": 2,
   "metadata": {},
   "outputs": [
    {
     "data": {
      "text/html": [
       "<div>\n",
       "<style scoped>\n",
       "    .dataframe tbody tr th:only-of-type {\n",
       "        vertical-align: middle;\n",
       "    }\n",
       "\n",
       "    .dataframe tbody tr th {\n",
       "        vertical-align: top;\n",
       "    }\n",
       "\n",
       "    .dataframe thead th {\n",
       "        text-align: right;\n",
       "    }\n",
       "</style>\n",
       "<table border=\"1\" class=\"dataframe\">\n",
       "  <thead>\n",
       "    <tr style=\"text-align: right;\">\n",
       "      <th></th>\n",
       "      <th>PassengerId</th>\n",
       "      <th>Survived</th>\n",
       "      <th>Pclass</th>\n",
       "      <th>Name</th>\n",
       "      <th>Sex</th>\n",
       "      <th>Age</th>\n",
       "      <th>SibSp</th>\n",
       "      <th>Parch</th>\n",
       "      <th>Ticket</th>\n",
       "      <th>Fare</th>\n",
       "      <th>Cabin</th>\n",
       "      <th>Embarked</th>\n",
       "    </tr>\n",
       "  </thead>\n",
       "  <tbody>\n",
       "    <tr>\n",
       "      <th>0</th>\n",
       "      <td>1</td>\n",
       "      <td>0</td>\n",
       "      <td>3</td>\n",
       "      <td>Braund, Mr. Owen Harris</td>\n",
       "      <td>male</td>\n",
       "      <td>22.0</td>\n",
       "      <td>1</td>\n",
       "      <td>0</td>\n",
       "      <td>A/5 21171</td>\n",
       "      <td>7.2500</td>\n",
       "      <td>NaN</td>\n",
       "      <td>S</td>\n",
       "    </tr>\n",
       "    <tr>\n",
       "      <th>1</th>\n",
       "      <td>2</td>\n",
       "      <td>1</td>\n",
       "      <td>1</td>\n",
       "      <td>Cumings, Mrs. John Bradley (Florence Briggs Th...</td>\n",
       "      <td>female</td>\n",
       "      <td>38.0</td>\n",
       "      <td>1</td>\n",
       "      <td>0</td>\n",
       "      <td>PC 17599</td>\n",
       "      <td>71.2833</td>\n",
       "      <td>C85</td>\n",
       "      <td>C</td>\n",
       "    </tr>\n",
       "  </tbody>\n",
       "</table>\n",
       "</div>"
      ],
      "text/plain": [
       "   PassengerId  Survived  Pclass  \\\n",
       "0            1         0       3   \n",
       "1            2         1       1   \n",
       "\n",
       "                                                Name     Sex   Age  SibSp  \\\n",
       "0                            Braund, Mr. Owen Harris    male  22.0      1   \n",
       "1  Cumings, Mrs. John Bradley (Florence Briggs Th...  female  38.0      1   \n",
       "\n",
       "   Parch     Ticket     Fare Cabin Embarked  \n",
       "0      0  A/5 21171   7.2500   NaN        S  \n",
       "1      0   PC 17599  71.2833   C85        C  "
      ]
     },
     "execution_count": 2,
     "metadata": {},
     "output_type": "execute_result"
    }
   ],
   "source": [
    "data = pd.read_csv('train.csv')\n",
    "df_raw = data.copy()\n",
    "df_raw.head(2)"
   ]
  },
  {
   "cell_type": "code",
   "execution_count": 3,
   "metadata": {},
   "outputs": [
    {
     "data": {
      "text/html": [
       "<div>\n",
       "<style scoped>\n",
       "    .dataframe tbody tr th:only-of-type {\n",
       "        vertical-align: middle;\n",
       "    }\n",
       "\n",
       "    .dataframe tbody tr th {\n",
       "        vertical-align: top;\n",
       "    }\n",
       "\n",
       "    .dataframe thead th {\n",
       "        text-align: right;\n",
       "    }\n",
       "</style>\n",
       "<table border=\"1\" class=\"dataframe\">\n",
       "  <thead>\n",
       "    <tr style=\"text-align: right;\">\n",
       "      <th></th>\n",
       "      <th>Survived</th>\n",
       "      <th>Pclass</th>\n",
       "      <th>Sex</th>\n",
       "      <th>Age</th>\n",
       "      <th>SibSp</th>\n",
       "      <th>Parch</th>\n",
       "      <th>Fare</th>\n",
       "      <th>Cabin</th>\n",
       "      <th>Embarked</th>\n",
       "    </tr>\n",
       "  </thead>\n",
       "  <tbody>\n",
       "    <tr>\n",
       "      <th>0</th>\n",
       "      <td>0</td>\n",
       "      <td>3</td>\n",
       "      <td>male</td>\n",
       "      <td>22.0</td>\n",
       "      <td>1</td>\n",
       "      <td>0</td>\n",
       "      <td>7.2500</td>\n",
       "      <td>NaN</td>\n",
       "      <td>S</td>\n",
       "    </tr>\n",
       "    <tr>\n",
       "      <th>1</th>\n",
       "      <td>1</td>\n",
       "      <td>1</td>\n",
       "      <td>female</td>\n",
       "      <td>38.0</td>\n",
       "      <td>1</td>\n",
       "      <td>0</td>\n",
       "      <td>71.2833</td>\n",
       "      <td>C85</td>\n",
       "      <td>C</td>\n",
       "    </tr>\n",
       "  </tbody>\n",
       "</table>\n",
       "</div>"
      ],
      "text/plain": [
       "   Survived  Pclass     Sex   Age  SibSp  Parch     Fare Cabin Embarked\n",
       "0         0       3    male  22.0      1      0   7.2500   NaN        S\n",
       "1         1       1  female  38.0      1      0  71.2833   C85        C"
      ]
     },
     "execution_count": 3,
     "metadata": {},
     "output_type": "execute_result"
    }
   ],
   "source": [
    "#Drop features that are not needed\n",
    "df_raw = df_raw.drop(labels=['Name','PassengerId','Ticket'],axis=1)\n",
    "df_raw.head(2)"
   ]
  },
  {
   "cell_type": "markdown",
   "metadata": {},
   "source": [
    "<b>Explore Dataset</b>\n",
    "\n",
    "Explore dataset, visualize its properties and see data distribution"
   ]
  },
  {
   "cell_type": "code",
   "execution_count": 4,
   "metadata": {},
   "outputs": [
    {
     "data": {
      "text/html": [
       "<div>\n",
       "<style scoped>\n",
       "    .dataframe tbody tr th:only-of-type {\n",
       "        vertical-align: middle;\n",
       "    }\n",
       "\n",
       "    .dataframe tbody tr th {\n",
       "        vertical-align: top;\n",
       "    }\n",
       "\n",
       "    .dataframe thead th {\n",
       "        text-align: right;\n",
       "    }\n",
       "</style>\n",
       "<table border=\"1\" class=\"dataframe\">\n",
       "  <thead>\n",
       "    <tr style=\"text-align: right;\">\n",
       "      <th></th>\n",
       "      <th>Survived</th>\n",
       "      <th>Pclass</th>\n",
       "      <th>Age</th>\n",
       "      <th>SibSp</th>\n",
       "      <th>Parch</th>\n",
       "      <th>Fare</th>\n",
       "    </tr>\n",
       "  </thead>\n",
       "  <tbody>\n",
       "    <tr>\n",
       "      <th>count</th>\n",
       "      <td>891.000000</td>\n",
       "      <td>891.000000</td>\n",
       "      <td>714.000000</td>\n",
       "      <td>891.000000</td>\n",
       "      <td>891.000000</td>\n",
       "      <td>891.000000</td>\n",
       "    </tr>\n",
       "    <tr>\n",
       "      <th>mean</th>\n",
       "      <td>0.383838</td>\n",
       "      <td>2.308642</td>\n",
       "      <td>29.699118</td>\n",
       "      <td>0.523008</td>\n",
       "      <td>0.381594</td>\n",
       "      <td>32.204208</td>\n",
       "    </tr>\n",
       "    <tr>\n",
       "      <th>std</th>\n",
       "      <td>0.486592</td>\n",
       "      <td>0.836071</td>\n",
       "      <td>14.526497</td>\n",
       "      <td>1.102743</td>\n",
       "      <td>0.806057</td>\n",
       "      <td>49.693429</td>\n",
       "    </tr>\n",
       "    <tr>\n",
       "      <th>min</th>\n",
       "      <td>0.000000</td>\n",
       "      <td>1.000000</td>\n",
       "      <td>0.420000</td>\n",
       "      <td>0.000000</td>\n",
       "      <td>0.000000</td>\n",
       "      <td>0.000000</td>\n",
       "    </tr>\n",
       "    <tr>\n",
       "      <th>25%</th>\n",
       "      <td>0.000000</td>\n",
       "      <td>2.000000</td>\n",
       "      <td>20.125000</td>\n",
       "      <td>0.000000</td>\n",
       "      <td>0.000000</td>\n",
       "      <td>7.910400</td>\n",
       "    </tr>\n",
       "    <tr>\n",
       "      <th>50%</th>\n",
       "      <td>0.000000</td>\n",
       "      <td>3.000000</td>\n",
       "      <td>28.000000</td>\n",
       "      <td>0.000000</td>\n",
       "      <td>0.000000</td>\n",
       "      <td>14.454200</td>\n",
       "    </tr>\n",
       "    <tr>\n",
       "      <th>75%</th>\n",
       "      <td>1.000000</td>\n",
       "      <td>3.000000</td>\n",
       "      <td>38.000000</td>\n",
       "      <td>1.000000</td>\n",
       "      <td>0.000000</td>\n",
       "      <td>31.000000</td>\n",
       "    </tr>\n",
       "    <tr>\n",
       "      <th>max</th>\n",
       "      <td>1.000000</td>\n",
       "      <td>3.000000</td>\n",
       "      <td>80.000000</td>\n",
       "      <td>8.000000</td>\n",
       "      <td>6.000000</td>\n",
       "      <td>512.329200</td>\n",
       "    </tr>\n",
       "  </tbody>\n",
       "</table>\n",
       "</div>"
      ],
      "text/plain": [
       "         Survived      Pclass         Age       SibSp       Parch        Fare\n",
       "count  891.000000  891.000000  714.000000  891.000000  891.000000  891.000000\n",
       "mean     0.383838    2.308642   29.699118    0.523008    0.381594   32.204208\n",
       "std      0.486592    0.836071   14.526497    1.102743    0.806057   49.693429\n",
       "min      0.000000    1.000000    0.420000    0.000000    0.000000    0.000000\n",
       "25%      0.000000    2.000000   20.125000    0.000000    0.000000    7.910400\n",
       "50%      0.000000    3.000000   28.000000    0.000000    0.000000   14.454200\n",
       "75%      1.000000    3.000000   38.000000    1.000000    0.000000   31.000000\n",
       "max      1.000000    3.000000   80.000000    8.000000    6.000000  512.329200"
      ]
     },
     "execution_count": 4,
     "metadata": {},
     "output_type": "execute_result"
    }
   ],
   "source": [
    "df_raw.describe()"
   ]
  },
  {
   "cell_type": "code",
   "execution_count": 5,
   "metadata": {},
   "outputs": [
    {
     "name": "stderr",
     "output_type": "stream",
     "text": [
      "C:\\Users\\z0040jeb\\AppData\\Local\\Temp\\ipykernel_17068\\2581297007.py:5: FutureWarning: The default value of numeric_only in DataFrame.corr is deprecated. In a future version, it will default to False. Select only valid columns or specify the value of numeric_only to silence this warning.\n",
      "  df_raw.corr()\n"
     ]
    },
    {
     "data": {
      "text/html": [
       "<div>\n",
       "<style scoped>\n",
       "    .dataframe tbody tr th:only-of-type {\n",
       "        vertical-align: middle;\n",
       "    }\n",
       "\n",
       "    .dataframe tbody tr th {\n",
       "        vertical-align: top;\n",
       "    }\n",
       "\n",
       "    .dataframe thead th {\n",
       "        text-align: right;\n",
       "    }\n",
       "</style>\n",
       "<table border=\"1\" class=\"dataframe\">\n",
       "  <thead>\n",
       "    <tr style=\"text-align: right;\">\n",
       "      <th></th>\n",
       "      <th>Survived</th>\n",
       "      <th>Pclass</th>\n",
       "      <th>Age</th>\n",
       "      <th>SibSp</th>\n",
       "      <th>Parch</th>\n",
       "      <th>Fare</th>\n",
       "    </tr>\n",
       "  </thead>\n",
       "  <tbody>\n",
       "    <tr>\n",
       "      <th>Survived</th>\n",
       "      <td>1.000000</td>\n",
       "      <td>-0.338481</td>\n",
       "      <td>-0.077221</td>\n",
       "      <td>-0.035322</td>\n",
       "      <td>0.081629</td>\n",
       "      <td>0.257307</td>\n",
       "    </tr>\n",
       "    <tr>\n",
       "      <th>Pclass</th>\n",
       "      <td>-0.338481</td>\n",
       "      <td>1.000000</td>\n",
       "      <td>-0.369226</td>\n",
       "      <td>0.083081</td>\n",
       "      <td>0.018443</td>\n",
       "      <td>-0.549500</td>\n",
       "    </tr>\n",
       "    <tr>\n",
       "      <th>Age</th>\n",
       "      <td>-0.077221</td>\n",
       "      <td>-0.369226</td>\n",
       "      <td>1.000000</td>\n",
       "      <td>-0.308247</td>\n",
       "      <td>-0.189119</td>\n",
       "      <td>0.096067</td>\n",
       "    </tr>\n",
       "    <tr>\n",
       "      <th>SibSp</th>\n",
       "      <td>-0.035322</td>\n",
       "      <td>0.083081</td>\n",
       "      <td>-0.308247</td>\n",
       "      <td>1.000000</td>\n",
       "      <td>0.414838</td>\n",
       "      <td>0.159651</td>\n",
       "    </tr>\n",
       "    <tr>\n",
       "      <th>Parch</th>\n",
       "      <td>0.081629</td>\n",
       "      <td>0.018443</td>\n",
       "      <td>-0.189119</td>\n",
       "      <td>0.414838</td>\n",
       "      <td>1.000000</td>\n",
       "      <td>0.216225</td>\n",
       "    </tr>\n",
       "    <tr>\n",
       "      <th>Fare</th>\n",
       "      <td>0.257307</td>\n",
       "      <td>-0.549500</td>\n",
       "      <td>0.096067</td>\n",
       "      <td>0.159651</td>\n",
       "      <td>0.216225</td>\n",
       "      <td>1.000000</td>\n",
       "    </tr>\n",
       "  </tbody>\n",
       "</table>\n",
       "</div>"
      ],
      "text/plain": [
       "          Survived    Pclass       Age     SibSp     Parch      Fare\n",
       "Survived  1.000000 -0.338481 -0.077221 -0.035322  0.081629  0.257307\n",
       "Pclass   -0.338481  1.000000 -0.369226  0.083081  0.018443 -0.549500\n",
       "Age      -0.077221 -0.369226  1.000000 -0.308247 -0.189119  0.096067\n",
       "SibSp    -0.035322  0.083081 -0.308247  1.000000  0.414838  0.159651\n",
       "Parch     0.081629  0.018443 -0.189119  0.414838  1.000000  0.216225\n",
       "Fare      0.257307 -0.549500  0.096067  0.159651  0.216225  1.000000"
      ]
     },
     "execution_count": 5,
     "metadata": {},
     "output_type": "execute_result"
    }
   ],
   "source": [
    "# import seaborn as sn\n",
    "# import matplotlib.pyplot as plt\n",
    "# sn.heatmap(df_raw.corr(), annot=True)\n",
    "# plt.show()\n",
    "df_raw.corr()"
   ]
  },
  {
   "cell_type": "code",
   "execution_count": 6,
   "metadata": {},
   "outputs": [
    {
     "name": "stdout",
     "output_type": "stream",
     "text": [
      "Dataset Shape:  (891, 9)\n"
     ]
    },
    {
     "data": {
      "text/html": [
       "<div>\n",
       "<style scoped>\n",
       "    .dataframe tbody tr th:only-of-type {\n",
       "        vertical-align: middle;\n",
       "    }\n",
       "\n",
       "    .dataframe tbody tr th {\n",
       "        vertical-align: top;\n",
       "    }\n",
       "\n",
       "    .dataframe thead th {\n",
       "        text-align: right;\n",
       "    }\n",
       "</style>\n",
       "<table border=\"1\" class=\"dataframe\">\n",
       "  <thead>\n",
       "    <tr style=\"text-align: right;\">\n",
       "      <th></th>\n",
       "      <th>Column</th>\n",
       "      <th>Unique</th>\n",
       "      <th>Type</th>\n",
       "      <th>Null</th>\n",
       "    </tr>\n",
       "  </thead>\n",
       "  <tbody>\n",
       "    <tr>\n",
       "      <th>0</th>\n",
       "      <td>Survived</td>\n",
       "      <td>2</td>\n",
       "      <td>int64</td>\n",
       "      <td>0</td>\n",
       "    </tr>\n",
       "    <tr>\n",
       "      <th>1</th>\n",
       "      <td>Pclass</td>\n",
       "      <td>3</td>\n",
       "      <td>int64</td>\n",
       "      <td>0</td>\n",
       "    </tr>\n",
       "    <tr>\n",
       "      <th>2</th>\n",
       "      <td>Sex</td>\n",
       "      <td>2</td>\n",
       "      <td>object</td>\n",
       "      <td>0</td>\n",
       "    </tr>\n",
       "    <tr>\n",
       "      <th>3</th>\n",
       "      <td>Age</td>\n",
       "      <td>88</td>\n",
       "      <td>float64</td>\n",
       "      <td>177</td>\n",
       "    </tr>\n",
       "    <tr>\n",
       "      <th>4</th>\n",
       "      <td>SibSp</td>\n",
       "      <td>7</td>\n",
       "      <td>int64</td>\n",
       "      <td>0</td>\n",
       "    </tr>\n",
       "    <tr>\n",
       "      <th>5</th>\n",
       "      <td>Parch</td>\n",
       "      <td>7</td>\n",
       "      <td>int64</td>\n",
       "      <td>0</td>\n",
       "    </tr>\n",
       "    <tr>\n",
       "      <th>6</th>\n",
       "      <td>Fare</td>\n",
       "      <td>248</td>\n",
       "      <td>float64</td>\n",
       "      <td>0</td>\n",
       "    </tr>\n",
       "    <tr>\n",
       "      <th>7</th>\n",
       "      <td>Cabin</td>\n",
       "      <td>147</td>\n",
       "      <td>object</td>\n",
       "      <td>687</td>\n",
       "    </tr>\n",
       "    <tr>\n",
       "      <th>8</th>\n",
       "      <td>Embarked</td>\n",
       "      <td>3</td>\n",
       "      <td>object</td>\n",
       "      <td>2</td>\n",
       "    </tr>\n",
       "  </tbody>\n",
       "</table>\n",
       "</div>"
      ],
      "text/plain": [
       "     Column  Unique     Type  Null\n",
       "0  Survived       2    int64     0\n",
       "1    Pclass       3    int64     0\n",
       "2       Sex       2   object     0\n",
       "3       Age      88  float64   177\n",
       "4     SibSp       7    int64     0\n",
       "5     Parch       7    int64     0\n",
       "6      Fare     248  float64     0\n",
       "7     Cabin     147   object   687\n",
       "8  Embarked       3   object     2"
      ]
     },
     "execution_count": 6,
     "metadata": {},
     "output_type": "execute_result"
    }
   ],
   "source": [
    "def GetProperties(df):\n",
    "    colls = []\n",
    "    uniques = []\n",
    "    dtype = []\n",
    "    nulls = []\n",
    "    df_dict = {}\n",
    "    for x in df.columns:\n",
    "        colls.append(x)\n",
    "        uniques.append(df[x].nunique())\n",
    "        dtype.append(df[x].dtype)\n",
    "        nulls.append(df[x].isnull().sum())\n",
    "\n",
    "    df_dict = {'Column':colls,'Unique':uniques,'Type':dtype,'Null':nulls}\n",
    "    feature_analysis = pd.DataFrame(df_dict)\n",
    "    print(\"Dataset Shape: \",df.shape)\n",
    "    return feature_analysis\n",
    "\n",
    "analysis = GetProperties(df_raw)\n",
    "analysis"
   ]
  },
  {
   "cell_type": "code",
   "execution_count": 7,
   "metadata": {},
   "outputs": [
    {
     "data": {
      "text/plain": [
       "Sex     Survived\n",
       "female  0            64\n",
       "        1           197\n",
       "male    0           360\n",
       "        1            93\n",
       "Name: Age, dtype: int64"
      ]
     },
     "execution_count": 7,
     "metadata": {},
     "output_type": "execute_result"
    }
   ],
   "source": [
    "df_raw.groupby(['Sex','Survived'])['Age'].count()"
   ]
  },
  {
   "cell_type": "code",
   "execution_count": 8,
   "metadata": {},
   "outputs": [
    {
     "data": {
      "text/plain": [
       "Sex     Pclass\n",
       "female  1         34.611765\n",
       "        2         28.722973\n",
       "        3         21.750000\n",
       "male    1         41.281386\n",
       "        2         30.740707\n",
       "        3         26.507589\n",
       "Name: Age, dtype: float64"
      ]
     },
     "execution_count": 8,
     "metadata": {},
     "output_type": "execute_result"
    }
   ],
   "source": [
    "df_raw.groupby(['Sex','Pclass'])['Age'].mean()"
   ]
  },
  {
   "cell_type": "code",
   "execution_count": 9,
   "metadata": {},
   "outputs": [
    {
     "data": {
      "text/plain": [
       "Sex     Pclass\n",
       "female  1         91\n",
       "        2         70\n",
       "        3         72\n",
       "male    1         45\n",
       "        2         17\n",
       "        3         47\n",
       "Name: Survived, dtype: int64"
      ]
     },
     "execution_count": 9,
     "metadata": {},
     "output_type": "execute_result"
    }
   ],
   "source": [
    "df_raw.groupby(['Sex','Pclass'])['Survived'].sum()"
   ]
  },
  {
   "cell_type": "code",
   "execution_count": 10,
   "metadata": {},
   "outputs": [
    {
     "data": {
      "text/plain": [
       "Sex     Pclass  Survived\n",
       "female  1       0             3\n",
       "                1            91\n",
       "        2       0             6\n",
       "                1            70\n",
       "        3       0            72\n",
       "                1            72\n",
       "male    1       0            77\n",
       "                1            45\n",
       "        2       0            91\n",
       "                1            17\n",
       "        3       0           300\n",
       "                1            47\n",
       "Name: Survived, dtype: int64"
      ]
     },
     "execution_count": 10,
     "metadata": {},
     "output_type": "execute_result"
    }
   ],
   "source": [
    "df_raw.groupby(['Sex','Pclass','Survived'])['Survived'].count()"
   ]
  },
  {
   "cell_type": "code",
   "execution_count": 11,
   "metadata": {},
   "outputs": [
    {
     "data": {
      "image/png": "[encoded data removed]",
      "text/plain": [
       "<Figure size 1600x800 with 1 Axes>"
      ]
     },
     "metadata": {},
     "output_type": "display_data"
    }
   ],
   "source": [
    "import matplotlib.pyplot as plt\n",
    "from matplotlib.pyplot import figure\n",
    "import warnings\n",
    "\n",
    "warnings.filterwarnings(\"ignore\")\n",
    "plt.style.use('fivethirtyeight')\n",
    "figure(figsize=(20, 10), dpi=80)\n",
    "\n",
    "df_plot = df_raw\n",
    "\n",
    "x1 = df_plot['Age']\n",
    "\n",
    "# plot lines\n",
    "plt.hist(x1)\n",
    "\n",
    "plt.xlabel('Age')\n",
    "plt.ylabel('Frequency')\n",
    "plt.title('Age Distribution')\n",
    "plt.show()"
   ]
  },
  {
   "cell_type": "code",
   "execution_count": 12,
   "metadata": {},
   "outputs": [
    {
     "data": {
      "image/png": "[encoded data removed]",
      "text/plain": [
       "<Figure size 1600x800 with 1 Axes>"
      ]
     },
     "metadata": {},
     "output_type": "display_data"
    }
   ],
   "source": [
    "import matplotlib.pyplot as plt\n",
    "from matplotlib.pyplot import figure\n",
    "import warnings\n",
    "\n",
    "warnings.filterwarnings(\"ignore\")\n",
    "plt.style.use('fivethirtyeight')\n",
    "figure(figsize=(20, 10), dpi=80)\n",
    "\n",
    "df_plot = df_raw\n",
    "\n",
    "x1 = df_plot['Fare']\n",
    "\n",
    "# plot lines\n",
    "plt.hist(x1)\n",
    "\n",
    "plt.xlabel('Fare')\n",
    "plt.ylabel('Frequency')\n",
    "plt.title('Fare Distribution')\n",
    "plt.show()"
   ]
  },
  {
   "cell_type": "code",
   "execution_count": 13,
   "metadata": {},
   "outputs": [
    {
     "data": {
      "text/plain": [
       "0    549\n",
       "1    342\n",
       "Name: Survived, dtype: int64"
      ]
     },
     "execution_count": 13,
     "metadata": {},
     "output_type": "execute_result"
    },
    {
     "data": {
      "image/png": "[encoded data removed]",
      "text/plain": [
       "<Figure size 500x250 with 1 Axes>"
      ]
     },
     "metadata": {},
     "output_type": "display_data"
    }
   ],
   "source": [
    "figure(figsize=(10, 5), dpi=50)\n",
    "df_raw.groupby(['Sex'])['Pclass'].count().plot(kind='bar')\n",
    "plt.title('Sum of male and female on board')\n",
    "plt.xlabel('Sex')\n",
    "plt.ylabel('Sum')\n",
    "df_raw['Survived'].value_counts()"
   ]
  },
  {
   "cell_type": "code",
   "execution_count": 14,
   "metadata": {
    "scrolled": false
   },
   "outputs": [
    {
     "data": {
      "text/plain": [
       "Sex\n",
       "female    233\n",
       "male      109\n",
       "Name: Survived, dtype: int64"
      ]
     },
     "execution_count": 14,
     "metadata": {},
     "output_type": "execute_result"
    },
    {
     "data": {
      "image/png": "[encoded data removed]",
      "text/plain": [
       "<Figure size 500x250 with 1 Axes>"
      ]
     },
     "metadata": {},
     "output_type": "display_data"
    }
   ],
   "source": [
    "figure(figsize=(10, 5), dpi=50)\n",
    "df_raw.groupby(['Sex'])['Survived'].sum().plot(kind='bar')\n",
    "plt.title('Survival of males and females')\n",
    "plt.xlabel('Survived')\n",
    "plt.ylabel('Sum')\n",
    "df_raw.groupby(['Sex'])['Survived'].sum()"
   ]
  },
  {
   "cell_type": "code",
   "execution_count": 15,
   "metadata": {},
   "outputs": [
    {
     "data": {
      "text/plain": [
       "Text(0.5, 0, 'Embarked')"
      ]
     },
     "execution_count": 15,
     "metadata": {},
     "output_type": "execute_result"
    },
    {
     "data": {
      "image/png": "[encoded data removed]",
      "text/plain": [
       "<Figure size 500x250 with 1 Axes>"
      ]
     },
     "metadata": {},
     "output_type": "display_data"
    }
   ],
   "source": [
    "figure(figsize=(10, 5), dpi=50)\n",
    "df_raw.Embarked.value_counts().plot(kind='bar')\n",
    "plt.title('Sum of passengers')\n",
    "plt.xlabel('Embarked')"
   ]
  },
  {
   "cell_type": "code",
   "execution_count": null,
   "metadata": {
    "scrolled": true
   },
   "outputs": [],
   "source": []
  },
  {
   "cell_type": "markdown",
   "metadata": {},
   "source": [
    "<b>Handle Missing Values</b>\n",
    "\n",
    "Handle missing values in dataset, cabin has too many missing values, it is dropped entirely, Age feature is filled with mean value with respect to standard deviation"
   ]
  },
  {
   "cell_type": "code",
   "execution_count": 16,
   "metadata": {},
   "outputs": [
    {
     "data": {
      "text/plain": [
       "Survived      0\n",
       "Pclass        0\n",
       "Sex           0\n",
       "Age         177\n",
       "SibSp         0\n",
       "Parch         0\n",
       "Fare          0\n",
       "Cabin       687\n",
       "Embarked      2\n",
       "dtype: int64"
      ]
     },
     "execution_count": 16,
     "metadata": {},
     "output_type": "execute_result"
    }
   ],
   "source": [
    "df_raw.isnull().sum()"
   ]
  },
  {
   "cell_type": "code",
   "execution_count": 17,
   "metadata": {},
   "outputs": [],
   "source": [
    "df_raw2 = df_raw.drop('Cabin',axis=1)"
   ]
  },
  {
   "cell_type": "code",
   "execution_count": 18,
   "metadata": {},
   "outputs": [
    {
     "name": "stdout",
     "output_type": "stream",
     "text": [
      "ttl nan:  2\n"
     ]
    },
    {
     "data": {
      "text/plain": [
       "S    644\n",
       "C    168\n",
       "Q     77\n",
       "Name: Embarked, dtype: int64"
      ]
     },
     "execution_count": 18,
     "metadata": {},
     "output_type": "execute_result"
    }
   ],
   "source": [
    "print(\"ttl nan: \",df_raw2['Embarked'].isnull().sum())\n",
    "df_raw2['Embarked'].value_counts()"
   ]
  },
  {
   "cell_type": "code",
   "execution_count": 19,
   "metadata": {},
   "outputs": [],
   "source": [
    "df_raw2['Embarked'].fillna('S',inplace=True)"
   ]
  },
  {
   "cell_type": "code",
   "execution_count": 20,
   "metadata": {},
   "outputs": [
    {
     "name": "stdout",
     "output_type": "stream",
     "text": [
      "ttl Embarked nan:  0\n"
     ]
    }
   ],
   "source": [
    "print(\"ttl Embarked nan: \",df_raw2['Embarked'].isnull().sum())"
   ]
  },
  {
   "cell_type": "code",
   "execution_count": 21,
   "metadata": {},
   "outputs": [
    {
     "data": {
      "text/plain": [
       "Survived      0\n",
       "Pclass        0\n",
       "Sex           0\n",
       "Age         177\n",
       "SibSp         0\n",
       "Parch         0\n",
       "Fare          0\n",
       "Embarked      0\n",
       "dtype: int64"
      ]
     },
     "execution_count": 21,
     "metadata": {},
     "output_type": "execute_result"
    }
   ],
   "source": [
    "df_raw2.isnull().sum()"
   ]
  },
  {
   "cell_type": "code",
   "execution_count": 22,
   "metadata": {},
   "outputs": [
    {
     "name": "stdout",
     "output_type": "stream",
     "text": [
      "Column:  Age\n",
      "max:  80.0\n",
      "min:  0.42\n",
      "mean:  29.7\n",
      "median:  28.0\n",
      "Std:  14.53\n"
     ]
    }
   ],
   "source": [
    "def GetFeatureDetails(df, column):\n",
    "    print(\"Column: \",column)\n",
    "    print(\"max: \",df[column].max())\n",
    "    print(\"min: \", df[column].min())\n",
    "    print(\"mean: \", round(df[column].mean(),2))\n",
    "    print(\"median: \", round(df[column].median(),2))\n",
    "    print(\"Std: \", round(df[column].std(),2))\n",
    "    \n",
    "GetFeatureDetails(df_raw2,'Age')"
   ]
  },
  {
   "cell_type": "code",
   "execution_count": 23,
   "metadata": {},
   "outputs": [
    {
     "data": {
      "text/plain": [
       "22.72639892753848"
      ]
     },
     "execution_count": 23,
     "metadata": {},
     "output_type": "execute_result"
    }
   ],
   "source": [
    "def GetNumber(column):\n",
    "    final_val = 0\n",
    "    mean_val = column.mean()\n",
    "    st_dev = column.std()\n",
    "    \n",
    "    rand = random.randint(1,50)\n",
    "    rand_multiplicator = rand/100\n",
    "\n",
    "    value = rand_multiplicator * st_dev\n",
    "\n",
    "    if random.randint(1,2) == 1:\n",
    "        final_val = mean_val - value\n",
    "    else:\n",
    "        final_val + value\n",
    "    return final_val\n",
    "\n",
    "GetNumber(df_raw2['Age'])"
   ]
  },
  {
   "cell_type": "code",
   "execution_count": 24,
   "metadata": {},
   "outputs": [
    {
     "data": {
      "text/plain": [
       "Survived    0\n",
       "Pclass      0\n",
       "Sex         0\n",
       "Age         0\n",
       "SibSp       0\n",
       "Parch       0\n",
       "Fare        0\n",
       "Embarked    0\n",
       "dtype: int64"
      ]
     },
     "execution_count": 24,
     "metadata": {},
     "output_type": "execute_result"
    }
   ],
   "source": [
    "#Populate empty values based on above defined function\n",
    "df_raw2['Age'] = df_raw2['Age'].apply(lambda x: GetNumber(df_raw2['Age']) if pd.isnull(x) == True else x)\n",
    "df_raw2.isnull().sum()"
   ]
  },
  {
   "cell_type": "code",
   "execution_count": 25,
   "metadata": {},
   "outputs": [
    {
     "name": "stdout",
     "output_type": "stream",
     "text": [
      "Column:  Survived\n",
      "0    549\n",
      "1    342\n",
      "Name: Survived, dtype: int64\n",
      "\n",
      "\n",
      "Column:  Pclass\n",
      "3    491\n",
      "1    216\n",
      "2    184\n",
      "Name: Pclass, dtype: int64\n",
      "\n",
      "\n",
      "Column:  Sex\n",
      "male      577\n",
      "female    314\n",
      "Name: Sex, dtype: int64\n",
      "\n",
      "\n",
      "Column:  SibSp\n",
      "0    608\n",
      "1    209\n",
      "2     28\n",
      "4     18\n",
      "3     16\n",
      "8      7\n",
      "5      5\n",
      "Name: SibSp, dtype: int64\n",
      "\n",
      "\n",
      "Column:  Parch\n",
      "0    678\n",
      "1    118\n",
      "2     80\n",
      "5      5\n",
      "3      5\n",
      "4      4\n",
      "6      1\n",
      "Name: Parch, dtype: int64\n",
      "\n",
      "\n",
      "Column:  Embarked\n",
      "S    644\n",
      "C    168\n",
      "Q     77\n",
      "Name: Embarked, dtype: int64\n",
      "\n",
      "\n"
     ]
    }
   ],
   "source": [
    "#print count of categorical variables\n",
    "categories = ['Survived','Pclass','Sex','SibSp','Parch','Embarked']\n",
    "for coll in categories:\n",
    "    print(\"Column: \",coll)\n",
    "    print(df_raw[coll].value_counts())\n",
    "    print(\"\\n\")"
   ]
  },
  {
   "cell_type": "markdown",
   "metadata": {},
   "source": [
    "<b>Feature Engineering</b>\n",
    "\n",
    "Create new features based on existing ones"
   ]
  },
  {
   "cell_type": "code",
   "execution_count": 26,
   "metadata": {},
   "outputs": [
    {
     "data": {
      "text/html": [
       "<div>\n",
       "<style scoped>\n",
       "    .dataframe tbody tr th:only-of-type {\n",
       "        vertical-align: middle;\n",
       "    }\n",
       "\n",
       "    .dataframe tbody tr th {\n",
       "        vertical-align: top;\n",
       "    }\n",
       "\n",
       "    .dataframe thead th {\n",
       "        text-align: right;\n",
       "    }\n",
       "</style>\n",
       "<table border=\"1\" class=\"dataframe\">\n",
       "  <thead>\n",
       "    <tr style=\"text-align: right;\">\n",
       "      <th></th>\n",
       "      <th>Survived</th>\n",
       "      <th>Pclass</th>\n",
       "      <th>Sex</th>\n",
       "      <th>Age</th>\n",
       "      <th>Fare</th>\n",
       "      <th>Embarked</th>\n",
       "      <th>FamilyMembers</th>\n",
       "      <th>LoneTraveller</th>\n",
       "    </tr>\n",
       "  </thead>\n",
       "  <tbody>\n",
       "    <tr>\n",
       "      <th>0</th>\n",
       "      <td>0</td>\n",
       "      <td>3</td>\n",
       "      <td>male</td>\n",
       "      <td>22.0</td>\n",
       "      <td>7.2500</td>\n",
       "      <td>S</td>\n",
       "      <td>1</td>\n",
       "      <td>0</td>\n",
       "    </tr>\n",
       "    <tr>\n",
       "      <th>1</th>\n",
       "      <td>1</td>\n",
       "      <td>1</td>\n",
       "      <td>female</td>\n",
       "      <td>38.0</td>\n",
       "      <td>71.2833</td>\n",
       "      <td>C</td>\n",
       "      <td>1</td>\n",
       "      <td>0</td>\n",
       "    </tr>\n",
       "    <tr>\n",
       "      <th>2</th>\n",
       "      <td>1</td>\n",
       "      <td>3</td>\n",
       "      <td>female</td>\n",
       "      <td>26.0</td>\n",
       "      <td>7.9250</td>\n",
       "      <td>S</td>\n",
       "      <td>0</td>\n",
       "      <td>1</td>\n",
       "    </tr>\n",
       "  </tbody>\n",
       "</table>\n",
       "</div>"
      ],
      "text/plain": [
       "   Survived  Pclass     Sex   Age     Fare Embarked  FamilyMembers  \\\n",
       "0         0       3    male  22.0   7.2500        S              1   \n",
       "1         1       1  female  38.0  71.2833        C              1   \n",
       "2         1       3  female  26.0   7.9250        S              0   \n",
       "\n",
       "   LoneTraveller  \n",
       "0              0  \n",
       "1              0  \n",
       "2              1  "
      ]
     },
     "execution_count": 26,
     "metadata": {},
     "output_type": "execute_result"
    }
   ],
   "source": [
    "df_raw3 = df_raw2.copy()\n",
    "\n",
    "df_raw3['FamilyMembers'] = df_raw2['SibSp'] + df_raw2['Parch']\n",
    "df_raw3['LoneTraveller'] = df_raw3['FamilyMembers'].apply(lambda x: 1 if x == 0 else 0)\n",
    "df_raw3 = df_raw3.drop(labels=['SibSp','Parch'],axis=1)\n",
    "df_raw3.head(3)"
   ]
  },
  {
   "cell_type": "markdown",
   "metadata": {},
   "source": [
    "Feature \"FamilyMembers\" does not have balanced distribution of classes, 3 classes (out of 9)  include nearly 90% of all observations. Bellow code is intented to increase weights of frequent classes and remove those non-frequent one. Entire code however is commented out, since it did not improve model performance on test set."
   ]
  },
  {
   "cell_type": "code",
   "execution_count": 27,
   "metadata": {},
   "outputs": [
    {
     "data": {
      "text/plain": [
       "FamilyMembers\n",
       "0     537\n",
       "1     161\n",
       "2     102\n",
       "3      29\n",
       "4      15\n",
       "5      22\n",
       "6      12\n",
       "7       6\n",
       "10      7\n",
       "Name: Sex, dtype: int64"
      ]
     },
     "execution_count": 27,
     "metadata": {},
     "output_type": "execute_result"
    }
   ],
   "source": [
    "df_raw3.groupby(['FamilyMembers'])['Sex'].count()"
   ]
  },
  {
   "cell_type": "code",
   "execution_count": 28,
   "metadata": {},
   "outputs": [],
   "source": [
    "# print(\"median: \", df_raw3.groupby(['FamilyMembers'])['Sex'].count().median())\n",
    "# df_raw3.groupby(['FamilyMembers'])['Sex'].count()\n",
    "# dicti_ = df_raw3.groupby(['FamilyMembers'])['Sex'].count().to_dict()\n",
    "# dicti_"
   ]
  },
  {
   "cell_type": "code",
   "execution_count": 29,
   "metadata": {},
   "outputs": [],
   "source": [
    "# mean = df_raw3.groupby(['FamilyMembers'])['Sex'].count().mean()\n",
    "# print(\"Mean of categorical features of family members\", mean)\n",
    "# threshold = mean\n",
    "# df_raw3['FamilyMembers'] = df_raw3['FamilyMembers'].apply(lambda x: x if dicti_[x]>=threshold else 4) \n",
    "# df_raw3.FamilyMembers.value_counts()"
   ]
  },
  {
   "cell_type": "code",
   "execution_count": 30,
   "metadata": {},
   "outputs": [],
   "source": [
    "# df_raw3.head(2)"
   ]
  },
  {
   "cell_type": "markdown",
   "metadata": {},
   "source": [
    "<b>Encode Categories</b>\n",
    "\n",
    "All categorical features are encoded to numeric form. DNN model expects values to be numerics, therefore in following part, entire dataset is being transformed. "
   ]
  },
  {
   "cell_type": "code",
   "execution_count": 31,
   "metadata": {},
   "outputs": [],
   "source": [
    "df_raw3['Sex'] = df_raw3['Sex'].apply(lambda x: 0 if x == 'male' else 1)"
   ]
  },
  {
   "cell_type": "code",
   "execution_count": 32,
   "metadata": {},
   "outputs": [
    {
     "data": {
      "text/plain": [
       "array(['S', 'C', 'Q'], dtype=object)"
      ]
     },
     "execution_count": 32,
     "metadata": {},
     "output_type": "execute_result"
    }
   ],
   "source": [
    "df_raw3['Embarked'].unique()"
   ]
  },
  {
   "cell_type": "code",
   "execution_count": 33,
   "metadata": {},
   "outputs": [],
   "source": [
    "from sklearn import preprocessing\n",
    "\n",
    "le = preprocessing.LabelEncoder()\n",
    "embarked_labels = le.fit_transform(df_raw3['Embarked'])"
   ]
  },
  {
   "cell_type": "code",
   "execution_count": 34,
   "metadata": {},
   "outputs": [
    {
     "data": {
      "text/html": [
       "<div>\n",
       "<style scoped>\n",
       "    .dataframe tbody tr th:only-of-type {\n",
       "        vertical-align: middle;\n",
       "    }\n",
       "\n",
       "    .dataframe tbody tr th {\n",
       "        vertical-align: top;\n",
       "    }\n",
       "\n",
       "    .dataframe thead th {\n",
       "        text-align: right;\n",
       "    }\n",
       "</style>\n",
       "<table border=\"1\" class=\"dataframe\">\n",
       "  <thead>\n",
       "    <tr style=\"text-align: right;\">\n",
       "      <th></th>\n",
       "      <th>Survived</th>\n",
       "      <th>Pclass</th>\n",
       "      <th>Sex</th>\n",
       "      <th>Age</th>\n",
       "      <th>Fare</th>\n",
       "      <th>Embarked</th>\n",
       "      <th>FamilyMembers</th>\n",
       "      <th>LoneTraveller</th>\n",
       "    </tr>\n",
       "  </thead>\n",
       "  <tbody>\n",
       "    <tr>\n",
       "      <th>0</th>\n",
       "      <td>0</td>\n",
       "      <td>3</td>\n",
       "      <td>0</td>\n",
       "      <td>22.0</td>\n",
       "      <td>7.2500</td>\n",
       "      <td>2</td>\n",
       "      <td>1</td>\n",
       "      <td>0</td>\n",
       "    </tr>\n",
       "    <tr>\n",
       "      <th>1</th>\n",
       "      <td>1</td>\n",
       "      <td>1</td>\n",
       "      <td>1</td>\n",
       "      <td>38.0</td>\n",
       "      <td>71.2833</td>\n",
       "      <td>0</td>\n",
       "      <td>1</td>\n",
       "      <td>0</td>\n",
       "    </tr>\n",
       "    <tr>\n",
       "      <th>2</th>\n",
       "      <td>1</td>\n",
       "      <td>3</td>\n",
       "      <td>1</td>\n",
       "      <td>26.0</td>\n",
       "      <td>7.9250</td>\n",
       "      <td>2</td>\n",
       "      <td>0</td>\n",
       "      <td>1</td>\n",
       "    </tr>\n",
       "    <tr>\n",
       "      <th>3</th>\n",
       "      <td>1</td>\n",
       "      <td>1</td>\n",
       "      <td>1</td>\n",
       "      <td>35.0</td>\n",
       "      <td>53.1000</td>\n",
       "      <td>2</td>\n",
       "      <td>1</td>\n",
       "      <td>0</td>\n",
       "    </tr>\n",
       "    <tr>\n",
       "      <th>4</th>\n",
       "      <td>0</td>\n",
       "      <td>3</td>\n",
       "      <td>0</td>\n",
       "      <td>35.0</td>\n",
       "      <td>8.0500</td>\n",
       "      <td>2</td>\n",
       "      <td>0</td>\n",
       "      <td>1</td>\n",
       "    </tr>\n",
       "    <tr>\n",
       "      <th>...</th>\n",
       "      <td>...</td>\n",
       "      <td>...</td>\n",
       "      <td>...</td>\n",
       "      <td>...</td>\n",
       "      <td>...</td>\n",
       "      <td>...</td>\n",
       "      <td>...</td>\n",
       "      <td>...</td>\n",
       "    </tr>\n",
       "    <tr>\n",
       "      <th>886</th>\n",
       "      <td>0</td>\n",
       "      <td>2</td>\n",
       "      <td>0</td>\n",
       "      <td>27.0</td>\n",
       "      <td>13.0000</td>\n",
       "      <td>2</td>\n",
       "      <td>0</td>\n",
       "      <td>1</td>\n",
       "    </tr>\n",
       "    <tr>\n",
       "      <th>887</th>\n",
       "      <td>1</td>\n",
       "      <td>1</td>\n",
       "      <td>1</td>\n",
       "      <td>19.0</td>\n",
       "      <td>30.0000</td>\n",
       "      <td>2</td>\n",
       "      <td>0</td>\n",
       "      <td>1</td>\n",
       "    </tr>\n",
       "    <tr>\n",
       "      <th>888</th>\n",
       "      <td>0</td>\n",
       "      <td>3</td>\n",
       "      <td>1</td>\n",
       "      <td>0.0</td>\n",
       "      <td>23.4500</td>\n",
       "      <td>2</td>\n",
       "      <td>3</td>\n",
       "      <td>0</td>\n",
       "    </tr>\n",
       "    <tr>\n",
       "      <th>889</th>\n",
       "      <td>1</td>\n",
       "      <td>1</td>\n",
       "      <td>0</td>\n",
       "      <td>26.0</td>\n",
       "      <td>30.0000</td>\n",
       "      <td>0</td>\n",
       "      <td>0</td>\n",
       "      <td>1</td>\n",
       "    </tr>\n",
       "    <tr>\n",
       "      <th>890</th>\n",
       "      <td>0</td>\n",
       "      <td>3</td>\n",
       "      <td>0</td>\n",
       "      <td>32.0</td>\n",
       "      <td>7.7500</td>\n",
       "      <td>1</td>\n",
       "      <td>0</td>\n",
       "      <td>1</td>\n",
       "    </tr>\n",
       "  </tbody>\n",
       "</table>\n",
       "<p>891 rows × 8 columns</p>\n",
       "</div>"
      ],
      "text/plain": [
       "     Survived  Pclass  Sex   Age     Fare  Embarked  FamilyMembers  \\\n",
       "0           0       3    0  22.0   7.2500         2              1   \n",
       "1           1       1    1  38.0  71.2833         0              1   \n",
       "2           1       3    1  26.0   7.9250         2              0   \n",
       "3           1       1    1  35.0  53.1000         2              1   \n",
       "4           0       3    0  35.0   8.0500         2              0   \n",
       "..        ...     ...  ...   ...      ...       ...            ...   \n",
       "886         0       2    0  27.0  13.0000         2              0   \n",
       "887         1       1    1  19.0  30.0000         2              0   \n",
       "888         0       3    1   0.0  23.4500         2              3   \n",
       "889         1       1    0  26.0  30.0000         0              0   \n",
       "890         0       3    0  32.0   7.7500         1              0   \n",
       "\n",
       "     LoneTraveller  \n",
       "0                0  \n",
       "1                0  \n",
       "2                1  \n",
       "3                0  \n",
       "4                1  \n",
       "..             ...  \n",
       "886              1  \n",
       "887              1  \n",
       "888              0  \n",
       "889              1  \n",
       "890              1  \n",
       "\n",
       "[891 rows x 8 columns]"
      ]
     },
     "execution_count": 34,
     "metadata": {},
     "output_type": "execute_result"
    }
   ],
   "source": [
    "df_raw3['Embarked'] = embarked_labels\n",
    "df_raw3"
   ]
  },
  {
   "cell_type": "markdown",
   "metadata": {},
   "source": [
    "<b>Get Bins</b>\n",
    "\n",
    "Initialy i intended to create bins out of Fare and Age feature, however it did not show any improvement of model training and model performance on test set therefore bellow code is commented out."
   ]
  },
  {
   "cell_type": "code",
   "execution_count": 35,
   "metadata": {},
   "outputs": [],
   "source": [
    "# df_raw3.head(4)\n",
    "# df_raw3['Age_binned'] = pd.qcut(df_raw3['Age'], 7, labels=[1, 2, 3, 4,5,6,7])\n",
    "# df_raw3['Fare_binned'] = pd.qcut(df_raw3['Age'], 3, labels=[1, 2,3])\n",
    "# #df_raw3 = df_raw3.drop(labels=['Age','Fare'],axis=1)\n",
    "# df_raw3"
   ]
  },
  {
   "cell_type": "code",
   "execution_count": 36,
   "metadata": {},
   "outputs": [],
   "source": [
    "# df_raw3['Fare_binned'].value_counts()\n",
    "# #df_raw3['Fare_binned'].hist()"
   ]
  },
  {
   "cell_type": "code",
   "execution_count": 37,
   "metadata": {},
   "outputs": [],
   "source": [
    "# df_raw3['Age_binned'].value_counts()"
   ]
  },
  {
   "cell_type": "markdown",
   "metadata": {},
   "source": [
    "<b>Set dataframes types</b>"
   ]
  },
  {
   "cell_type": "code",
   "execution_count": 38,
   "metadata": {},
   "outputs": [
    {
     "data": {
      "text/plain": [
       "Survived         category\n",
       "Pclass           category\n",
       "Sex              category\n",
       "Age               float64\n",
       "Fare              float64\n",
       "Embarked         category\n",
       "FamilyMembers    category\n",
       "LoneTraveller    category\n",
       "dtype: object"
      ]
     },
     "execution_count": 38,
     "metadata": {},
     "output_type": "execute_result"
    }
   ],
   "source": [
    "for coll in df_raw3.columns:\n",
    "    if coll in ['Fare','Age']:\n",
    "        df_raw3[coll] = df_raw3[coll].astype('float')\n",
    "    else:\n",
    "        df_raw3[coll] = df_raw3[coll].astype('category')\n",
    "df_raw3.dtypes    "
   ]
  },
  {
   "cell_type": "markdown",
   "metadata": {},
   "source": [
    "<b>Normalize continuous numeric values</b>\n",
    "\n",
    "All continuous values must be normalized in order to improve model training, for our purpose i use MinMaxScaller from sklearn library. Age and Fare are being normalized."
   ]
  },
  {
   "cell_type": "code",
   "execution_count": 39,
   "metadata": {},
   "outputs": [],
   "source": [
    "from sklearn.preprocessing import MinMaxScaler\n",
    "scaller = MinMaxScaler()\n",
    "data_scalled = scaller.fit_transform(df_raw3[['Age','Fare']])\n",
    "age_scalled = pd.DataFrame(data_scalled[:]).iloc[:,0]\n",
    "fare_scalled = pd.DataFrame(data_scalled[:]).iloc[:,1]\n",
    "\n",
    "df_raw3['Age'] = age_scalled\n",
    "df_raw3['Fare'] = fare_scalled"
   ]
  },
  {
   "cell_type": "markdown",
   "metadata": {},
   "source": [
    "<b>Get train, validation and test dataset</b>"
   ]
  },
  {
   "cell_type": "markdown",
   "metadata": {},
   "source": [
    "I split dataset into train, validation and test set\n",
    "- train set is used for model training\n",
    "- validation set is used for training evaluation (callbacks are used to prevent overfitting).\n",
    "- test set as unseen data are used at the end to check and evaluate predictions"
   ]
  },
  {
   "cell_type": "code",
   "execution_count": 40,
   "metadata": {},
   "outputs": [
    {
     "data": {
      "text/html": [
       "<div>\n",
       "<style scoped>\n",
       "    .dataframe tbody tr th:only-of-type {\n",
       "        vertical-align: middle;\n",
       "    }\n",
       "\n",
       "    .dataframe tbody tr th {\n",
       "        vertical-align: top;\n",
       "    }\n",
       "\n",
       "    .dataframe thead th {\n",
       "        text-align: right;\n",
       "    }\n",
       "</style>\n",
       "<table border=\"1\" class=\"dataframe\">\n",
       "  <thead>\n",
       "    <tr style=\"text-align: right;\">\n",
       "      <th></th>\n",
       "      <th>Survived</th>\n",
       "      <th>Pclass</th>\n",
       "      <th>Sex</th>\n",
       "      <th>Age</th>\n",
       "      <th>Embarked</th>\n",
       "      <th>FamilyMembers</th>\n",
       "      <th>LoneTraveller</th>\n",
       "    </tr>\n",
       "  </thead>\n",
       "  <tbody>\n",
       "    <tr>\n",
       "      <th>0</th>\n",
       "      <td>0</td>\n",
       "      <td>3</td>\n",
       "      <td>0</td>\n",
       "      <td>0.2750</td>\n",
       "      <td>2</td>\n",
       "      <td>1</td>\n",
       "      <td>0</td>\n",
       "    </tr>\n",
       "    <tr>\n",
       "      <th>1</th>\n",
       "      <td>1</td>\n",
       "      <td>1</td>\n",
       "      <td>1</td>\n",
       "      <td>0.4750</td>\n",
       "      <td>0</td>\n",
       "      <td>1</td>\n",
       "      <td>0</td>\n",
       "    </tr>\n",
       "    <tr>\n",
       "      <th>2</th>\n",
       "      <td>1</td>\n",
       "      <td>3</td>\n",
       "      <td>1</td>\n",
       "      <td>0.3250</td>\n",
       "      <td>2</td>\n",
       "      <td>0</td>\n",
       "      <td>1</td>\n",
       "    </tr>\n",
       "    <tr>\n",
       "      <th>3</th>\n",
       "      <td>1</td>\n",
       "      <td>1</td>\n",
       "      <td>1</td>\n",
       "      <td>0.4375</td>\n",
       "      <td>2</td>\n",
       "      <td>1</td>\n",
       "      <td>0</td>\n",
       "    </tr>\n",
       "    <tr>\n",
       "      <th>4</th>\n",
       "      <td>0</td>\n",
       "      <td>3</td>\n",
       "      <td>0</td>\n",
       "      <td>0.4375</td>\n",
       "      <td>2</td>\n",
       "      <td>0</td>\n",
       "      <td>1</td>\n",
       "    </tr>\n",
       "  </tbody>\n",
       "</table>\n",
       "</div>"
      ],
      "text/plain": [
       "  Survived Pclass Sex     Age Embarked FamilyMembers LoneTraveller\n",
       "0        0      3   0  0.2750        2             1             0\n",
       "1        1      1   1  0.4750        0             1             0\n",
       "2        1      3   1  0.3250        2             0             1\n",
       "3        1      1   1  0.4375        2             1             0\n",
       "4        0      3   0  0.4375        2             0             1"
      ]
     },
     "execution_count": 40,
     "metadata": {},
     "output_type": "execute_result"
    }
   ],
   "source": [
    "df_raw3.head(2)\n",
    "df_raw3 = df_raw3.drop(labels=['Fare'],axis=1)#'Embarked','FamilyMembers','Pclass'\n",
    "df_raw3.head()"
   ]
  },
  {
   "cell_type": "code",
   "execution_count": 41,
   "metadata": {},
   "outputs": [],
   "source": [
    "X = df_raw3.drop(labels=['Sex'],axis=1) #,\n",
    "y = df_raw3['Sex'].to_numpy()"
   ]
  },
  {
   "cell_type": "code",
   "execution_count": 42,
   "metadata": {},
   "outputs": [],
   "source": [
    "from sklearn.model_selection import train_test_split\n",
    "\n",
    "X_train, X_temp, y_train, y_temp = train_test_split(X, y, test_size=0.30, random_state=7788, shuffle=True,stratify=y)\n",
    "X_validation, X_test, y_validation, y_test = train_test_split(X_temp, y_temp, test_size=0.30, random_state=7788, shuffle=True,stratify=y_temp)"
   ]
  },
  {
   "cell_type": "code",
   "execution_count": 43,
   "metadata": {},
   "outputs": [
    {
     "name": "stdout",
     "output_type": "stream",
     "text": [
      "X_train shape: (623, 6)\n",
      "X_validation shape:  (187, 6)\n",
      "X_test shape:  (81, 6)\n"
     ]
    }
   ],
   "source": [
    "print(f\"X_train shape: {X_train.shape}\")\n",
    "print(\"X_validation shape: \",X_validation.shape)\n",
    "print(\"X_test shape: \",X_test.shape)"
   ]
  },
  {
   "cell_type": "markdown",
   "metadata": {},
   "source": [
    "<b>Modelling part</b>"
   ]
  },
  {
   "cell_type": "markdown",
   "metadata": {},
   "source": [
    "Define custom function with DNN model architecture"
   ]
  },
  {
   "cell_type": "code",
   "execution_count": 44,
   "metadata": {},
   "outputs": [],
   "source": [
    "#Define callbacks that will be used during training, this improves training performance\n",
    "model_name='model.h5'\n",
    "\n",
    "metric = 'val_loss'\n",
    "\n",
    "early_stopping = EarlyStopping(monitor=metric, patience=16, mode='min', restore_best_weights=True)\n",
    "\n",
    "reduce_lr = ReduceLROnPlateau(monitor=metric, factor=0.2,patience=4, min_lr=10e-15,verbose=1)\n",
    "model_checkpoint = ModelCheckpoint(monitor=metric,filepath=model_name,save_best_only=True)\n",
    "\n",
    "callbacks = [early_stopping, reduce_lr, model_checkpoint]"
   ]
  },
  {
   "cell_type": "code",
   "execution_count": 45,
   "metadata": {},
   "outputs": [],
   "source": [
    "# tf.random.set_seed(7788)\n",
    "# np.random.seed(7788)\n",
    "\n",
    "def TrainEmbdModel(X_train):\n",
    "    colls = X_train.columns\n",
    "    dim_ = 2\n",
    "\n",
    "    def DefineModel(df,columns):\n",
    "        #initialize dataitems\n",
    "        inputs = []\n",
    "        outputs = []\n",
    "        counter = 1\n",
    "\n",
    "        #Construct Embedding Layers based on categorical features\n",
    "        for coll in columns:\n",
    "            uniques = df[coll].nunique()\n",
    "            output_dim = df[coll].nunique()\n",
    "            input_n = tf.keras.layers.Input(shape=(1, ))\n",
    "            output = tf.keras.layers.Embedding(input_dim=uniques+dim_, output_dim=output_dim+dim_, name=coll,\n",
    "                                              embeddings_initializer=\"uniform\")(input_n)\n",
    "            output = tf.keras.layers.Reshape(target_shape=(output_dim+dim_, ))(output)\n",
    "            inputs.append(input_n)\n",
    "            outputs.append(output)\n",
    "            counter += 1\n",
    "\n",
    "        #Concatenate embedding layers and construct deep nn\n",
    "        x = tf.keras.layers.Concatenate()(outputs)\n",
    "        x = tf.keras.layers.Dense(3,activation='elu')(x)\n",
    "        x = tf.keras.layers.Dense(2,activation='selu')(x)  \n",
    "        x = tf.keras.layers.Dense(1,activation='sigmoid')(x)\n",
    "        \n",
    "        #Construct final model\n",
    "        model = tf.keras.models.Model(inputs=inputs, outputs=x)\n",
    "        #model.summary()\n",
    "\n",
    "        return model\n",
    "\n",
    "    model = DefineModel(X_train,colls)\n",
    "\n",
    "    adam = tf.keras.optimizers.Adam(\n",
    "                learning_rate=0.0001, beta_1=0.009, beta_2=0.999, epsilon=1e-07, amsgrad=False)\n",
    "\n",
    "    model.compile(loss='binary_crossentropy', optimizer=adam,metrics='accuracy')#,\n",
    "\n",
    "    model.fit([X_train[coll].to_numpy() for coll in colls],y_train,epochs=1000,\n",
    "             validation_data=([X_validation[coll].to_numpy() for coll in colls], y_validation),\n",
    "             callbacks=[callbacks],batch_size=1, verbose=1)#\n",
    "\n",
    "    return model\n",
    "\n",
    "#model = TrainEmbdModel(X_train)"
   ]
  },
  {
   "cell_type": "code",
   "execution_count": 46,
   "metadata": {},
   "outputs": [],
   "source": [
    "# pred = model.predict([X_test[coll].to_numpy() for coll in X_test.columns])\n",
    "# predictions = pred.round()\n",
    "# _ = DisplayMetrics(y_test,predictions)\n"
   ]
  },
  {
   "cell_type": "markdown",
   "metadata": {},
   "source": [
    "<b>Decision Tree Training</b>"
   ]
  },
  {
   "cell_type": "markdown",
   "metadata": {},
   "source": [
    "Train and get prediction of classic decission tree model"
   ]
  },
  {
   "cell_type": "code",
   "execution_count": 47,
   "metadata": {},
   "outputs": [],
   "source": [
    "from sklearn.tree import DecisionTreeClassifier"
   ]
  },
  {
   "cell_type": "code",
   "execution_count": 48,
   "metadata": {},
   "outputs": [],
   "source": [
    "#Initialize tree model\n",
    "tree_model = DecisionTreeClassifier(random_state=1)\n",
    "#Train it\n",
    "tree_model = tree_model.fit(X_train, y_train)\n",
    "#Predict\n",
    "pred = tree_model.predict(X_test)"
   ]
  },
  {
   "cell_type": "code",
   "execution_count": 49,
   "metadata": {},
   "outputs": [
    {
     "name": "stdout",
     "output_type": "stream",
     "text": [
      "accuracy:  0.741\n",
      "recall:  0.714\n",
      "precission:  0.606\n",
      "F1-score:  0.656\n",
      "\n",
      " confusion matrix\n",
      " [[40 13]\n",
      " [ 8 20]]\n",
      "\n",
      "               precision    recall  f1-score   support\n",
      "\n",
      "           0       0.83      0.75      0.79        53\n",
      "           1       0.61      0.71      0.66        28\n",
      "\n",
      "    accuracy                           0.74        81\n",
      "   macro avg       0.72      0.73      0.72        81\n",
      "weighted avg       0.75      0.74      0.74        81\n",
      "\n"
     ]
    },
    {
     "data": {
      "text/html": [
       "<div>\n",
       "<style scoped>\n",
       "    .dataframe tbody tr th:only-of-type {\n",
       "        vertical-align: middle;\n",
       "    }\n",
       "\n",
       "    .dataframe tbody tr th {\n",
       "        vertical-align: top;\n",
       "    }\n",
       "\n",
       "    .dataframe thead th {\n",
       "        text-align: right;\n",
       "    }\n",
       "</style>\n",
       "<table border=\"1\" class=\"dataframe\">\n",
       "  <thead>\n",
       "    <tr style=\"text-align: right;\">\n",
       "      <th></th>\n",
       "      <th>Accuracy</th>\n",
       "      <th>Recall</th>\n",
       "      <th>Precision</th>\n",
       "      <th>F1</th>\n",
       "    </tr>\n",
       "  </thead>\n",
       "  <tbody>\n",
       "    <tr>\n",
       "      <th>0</th>\n",
       "      <td>0.741</td>\n",
       "      <td>0.714</td>\n",
       "      <td>0.606</td>\n",
       "      <td>0.656</td>\n",
       "    </tr>\n",
       "  </tbody>\n",
       "</table>\n",
       "</div>"
      ],
      "text/plain": [
       "   Accuracy  Recall  Precision     F1\n",
       "0     0.741   0.714      0.606  0.656"
      ]
     },
     "execution_count": 49,
     "metadata": {},
     "output_type": "execute_result"
    }
   ],
   "source": [
    "#Get metrics\n",
    "tree_metrics = DisplayMetrics(y_test,pred)\n",
    "df_tree = pd.DataFrame(tree_metrics)\n",
    "df_tree"
   ]
  },
  {
   "cell_type": "markdown",
   "metadata": {},
   "source": [
    "<b>Neral Network Training</b>"
   ]
  },
  {
   "cell_type": "markdown",
   "metadata": {},
   "source": [
    "Following code trains and gets metrics of DNN model. Due to stochastic behaviour of neural network  each new training might have slighly different prediction and thus metrics may vary a bit, therefore i am training model several times and at the end i calculate mean of metrics of all iterations. This mean is used to compare neural network with decission tree model."
   ]
  },
  {
   "cell_type": "code",
   "execution_count": 50,
   "metadata": {},
   "outputs": [
    {
     "name": "stdout",
     "output_type": "stream",
     "text": [
      "Epoch 1/1000\n",
      "623/623 [==============================] - 3s 3ms/step - loss: 0.6586 - accuracy: 0.6469 - val_loss: 0.6461 - val_accuracy: 0.6471 - lr: 1.0000e-04\n",
      "Epoch 2/1000\n",
      "623/623 [==============================] - 1s 2ms/step - loss: 0.6364 - accuracy: 0.6469 - val_loss: 0.6315 - val_accuracy: 0.6471 - lr: 1.0000e-04\n",
      "Epoch 3/1000\n",
      "623/623 [==============================] - 2s 2ms/step - loss: 0.6154 - accuracy: 0.6469 - val_loss: 0.6111 - val_accuracy: 0.6471 - lr: 1.0000e-04\n",
      "Epoch 4/1000\n",
      "623/623 [==============================] - 2s 2ms/step - loss: 0.5910 - accuracy: 0.6950 - val_loss: 0.5920 - val_accuracy: 0.6845 - lr: 1.0000e-04\n",
      "Epoch 5/1000\n",
      "623/623 [==============================] - 1s 2ms/step - loss: 0.5696 - accuracy: 0.7432 - val_loss: 0.5738 - val_accuracy: 0.7219 - lr: 1.0000e-04\n",
      "Epoch 6/1000\n",
      "623/623 [==============================] - 1s 2ms/step - loss: 0.5485 - accuracy: 0.7496 - val_loss: 0.5563 - val_accuracy: 0.7326 - lr: 1.0000e-04\n",
      "Epoch 7/1000\n",
      "623/623 [==============================] - 1s 2ms/step - loss: 0.5305 - accuracy: 0.7608 - val_loss: 0.5436 - val_accuracy: 0.7219 - lr: 1.0000e-04\n",
      "Epoch 8/1000\n",
      "623/623 [==============================] - 1s 2ms/step - loss: 0.5167 - accuracy: 0.7833 - val_loss: 0.5345 - val_accuracy: 0.7754 - lr: 1.0000e-04\n",
      "Epoch 9/1000\n",
      "623/623 [==============================] - 1s 2ms/step - loss: 0.5065 - accuracy: 0.7865 - val_loss: 0.5283 - val_accuracy: 0.7807 - lr: 1.0000e-04\n",
      "Epoch 10/1000\n",
      "623/623 [==============================] - 1s 2ms/step - loss: 0.4983 - accuracy: 0.7801 - val_loss: 0.5231 - val_accuracy: 0.7754 - lr: 1.0000e-04\n",
      "Epoch 11/1000\n",
      "623/623 [==============================] - 1s 2ms/step - loss: 0.4921 - accuracy: 0.7865 - val_loss: 0.5203 - val_accuracy: 0.7754 - lr: 1.0000e-04\n",
      "Epoch 12/1000\n",
      "623/623 [==============================] - 1s 2ms/step - loss: 0.4875 - accuracy: 0.7849 - val_loss: 0.5179 - val_accuracy: 0.7754 - lr: 1.0000e-04\n",
      "Epoch 13/1000\n",
      "623/623 [==============================] - 1s 2ms/step - loss: 0.4836 - accuracy: 0.7865 - val_loss: 0.5165 - val_accuracy: 0.7754 - lr: 1.0000e-04\n",
      "Epoch 14/1000\n",
      "623/623 [==============================] - 1s 2ms/step - loss: 0.4805 - accuracy: 0.7865 - val_loss: 0.5156 - val_accuracy: 0.7754 - lr: 1.0000e-04\n",
      "Epoch 15/1000\n",
      "623/623 [==============================] - 1s 2ms/step - loss: 0.4777 - accuracy: 0.7865 - val_loss: 0.5149 - val_accuracy: 0.7754 - lr: 1.0000e-04\n",
      "Epoch 16/1000\n",
      "623/623 [==============================] - 2s 2ms/step - loss: 0.4749 - accuracy: 0.7865 - val_loss: 0.5148 - val_accuracy: 0.7754 - lr: 1.0000e-04\n",
      "Epoch 17/1000\n",
      "623/623 [==============================] - 2s 2ms/step - loss: 0.4726 - accuracy: 0.7865 - val_loss: 0.5146 - val_accuracy: 0.7754 - lr: 1.0000e-04\n",
      "Epoch 18/1000\n",
      "623/623 [==============================] - 2s 3ms/step - loss: 0.4702 - accuracy: 0.7865 - val_loss: 0.5143 - val_accuracy: 0.7754 - lr: 1.0000e-04\n",
      "Epoch 19/1000\n",
      "623/623 [==============================] - 2s 3ms/step - loss: 0.4678 - accuracy: 0.7865 - val_loss: 0.5144 - val_accuracy: 0.7754 - lr: 1.0000e-04\n",
      "Epoch 20/1000\n",
      "623/623 [==============================] - 1s 2ms/step - loss: 0.4655 - accuracy: 0.7978 - val_loss: 0.5149 - val_accuracy: 0.7754 - lr: 1.0000e-04\n",
      "Epoch 21/1000\n",
      "623/623 [==============================] - 1s 2ms/step - loss: 0.4638 - accuracy: 0.7929 - val_loss: 0.5147 - val_accuracy: 0.7701 - lr: 1.0000e-04\n",
      "Epoch 22/1000\n",
      "610/623 [============================>.] - ETA: 0s - loss: 0.4668 - accuracy: 0.7902\n",
      "Epoch 22: ReduceLROnPlateau reducing learning rate to 1.9999999494757503e-05.\n",
      "623/623 [==============================] - 1s 2ms/step - loss: 0.4622 - accuracy: 0.7945 - val_loss: 0.5150 - val_accuracy: 0.7701 - lr: 1.0000e-04\n",
      "Epoch 23/1000\n",
      "623/623 [==============================] - 1s 2ms/step - loss: 0.4602 - accuracy: 0.7978 - val_loss: 0.5151 - val_accuracy: 0.7701 - lr: 2.0000e-05\n",
      "Epoch 24/1000\n",
      "623/623 [==============================] - 1s 2ms/step - loss: 0.4597 - accuracy: 0.7978 - val_loss: 0.5152 - val_accuracy: 0.7701 - lr: 2.0000e-05\n",
      "Epoch 25/1000\n",
      "623/623 [==============================] - 2s 3ms/step - loss: 0.4594 - accuracy: 0.7978 - val_loss: 0.5153 - val_accuracy: 0.7701 - lr: 2.0000e-05\n",
      "Epoch 26/1000\n",
      "610/623 [============================>.] - ETA: 0s - loss: 0.4582 - accuracy: 0.7967\n",
      "Epoch 26: ReduceLROnPlateau reducing learning rate to 3.999999898951501e-06.\n",
      "623/623 [==============================] - 1s 2ms/step - loss: 0.4590 - accuracy: 0.7978 - val_loss: 0.5154 - val_accuracy: 0.7701 - lr: 2.0000e-05\n",
      "Epoch 27/1000\n",
      "623/623 [==============================] - 1s 2ms/step - loss: 0.4585 - accuracy: 0.7978 - val_loss: 0.5154 - val_accuracy: 0.7701 - lr: 4.0000e-06\n",
      "Epoch 28/1000\n",
      "623/623 [==============================] - 1s 2ms/step - loss: 0.4585 - accuracy: 0.7978 - val_loss: 0.5155 - val_accuracy: 0.7701 - lr: 4.0000e-06\n",
      "Epoch 29/1000\n",
      "623/623 [==============================] - 2s 3ms/step - loss: 0.4584 - accuracy: 0.7978 - val_loss: 0.5155 - val_accuracy: 0.7701 - lr: 4.0000e-06\n",
      "Epoch 30/1000\n",
      "617/623 [============================>.] - ETA: 0s - loss: 0.4565 - accuracy: 0.7990\n",
      "Epoch 30: ReduceLROnPlateau reducing learning rate to 7.999999979801942e-07.\n",
      "623/623 [==============================] - 1s 2ms/step - loss: 0.4583 - accuracy: 0.7978 - val_loss: 0.5155 - val_accuracy: 0.7701 - lr: 4.0000e-06\n",
      "Epoch 31/1000\n",
      "623/623 [==============================] - 2s 3ms/step - loss: 0.4582 - accuracy: 0.7978 - val_loss: 0.5155 - val_accuracy: 0.7701 - lr: 8.0000e-07\n",
      "Epoch 32/1000\n",
      "623/623 [==============================] - 1s 2ms/step - loss: 0.4582 - accuracy: 0.7978 - val_loss: 0.5155 - val_accuracy: 0.7701 - lr: 8.0000e-07\n",
      "Epoch 33/1000\n",
      "623/623 [==============================] - 1s 2ms/step - loss: 0.4582 - accuracy: 0.7978 - val_loss: 0.5155 - val_accuracy: 0.7701 - lr: 8.0000e-07\n",
      "Epoch 34/1000\n",
      "611/623 [============================>.] - ETA: 0s - loss: 0.4587 - accuracy: 0.7971\n",
      "Epoch 34: ReduceLROnPlateau reducing learning rate to 1.600000018697756e-07.\n",
      "623/623 [==============================] - 2s 3ms/step - loss: 0.4582 - accuracy: 0.7978 - val_loss: 0.5155 - val_accuracy: 0.7701 - lr: 8.0000e-07\n",
      "3/3 [==============================] - 0s 3ms/step\n",
      "accuracy:  0.827\n",
      "recall:  0.786\n",
      "precission:  0.733\n",
      "F1-score:  0.759\n",
      "\n",
      " confusion matrix\n",
      " [[45  8]\n",
      " [ 6 22]]\n",
      "\n",
      "               precision    recall  f1-score   support\n",
      "\n",
      "           0       0.88      0.85      0.87        53\n",
      "           1       0.73      0.79      0.76        28\n",
      "\n",
      "    accuracy                           0.83        81\n",
      "   macro avg       0.81      0.82      0.81        81\n",
      "weighted avg       0.83      0.83      0.83        81\n",
      "\n",
      "Epoch 1/1000\n",
      "623/623 [==============================] - 3s 3ms/step - loss: 0.6659 - accuracy: 0.6453 - val_loss: 0.6540 - val_accuracy: 0.6471 - lr: 1.0000e-04\n",
      "Epoch 2/1000\n",
      "623/623 [==============================] - 2s 3ms/step - loss: 0.6467 - accuracy: 0.6469 - val_loss: 0.6431 - val_accuracy: 0.6471 - lr: 1.0000e-04\n",
      "Epoch 3/1000\n",
      "623/623 [==============================] - 2s 2ms/step - loss: 0.6356 - accuracy: 0.6469 - val_loss: 0.6342 - val_accuracy: 0.6471 - lr: 1.0000e-04\n",
      "Epoch 4/1000\n",
      "623/623 [==============================] - 2s 3ms/step - loss: 0.6225 - accuracy: 0.6469 - val_loss: 0.6214 - val_accuracy: 0.6471 - lr: 1.0000e-04\n",
      "Epoch 5/1000\n",
      "623/623 [==============================] - 2s 3ms/step - loss: 0.6036 - accuracy: 0.6709 - val_loss: 0.6044 - val_accuracy: 0.6631 - lr: 1.0000e-04\n",
      "Epoch 6/1000\n",
      "623/623 [==============================] - 1s 2ms/step - loss: 0.5825 - accuracy: 0.7416 - val_loss: 0.5880 - val_accuracy: 0.7219 - lr: 1.0000e-04\n",
      "Epoch 7/1000\n",
      "623/623 [==============================] - 1s 2ms/step - loss: 0.5638 - accuracy: 0.7496 - val_loss: 0.5734 - val_accuracy: 0.7219 - lr: 1.0000e-04\n",
      "Epoch 8/1000\n",
      "623/623 [==============================] - 1s 2ms/step - loss: 0.5464 - accuracy: 0.7496 - val_loss: 0.5587 - val_accuracy: 0.7219 - lr: 1.0000e-04\n",
      "Epoch 9/1000\n",
      "623/623 [==============================] - 2s 3ms/step - loss: 0.5295 - accuracy: 0.7496 - val_loss: 0.5456 - val_accuracy: 0.7219 - lr: 1.0000e-04\n",
      "Epoch 10/1000\n",
      "623/623 [==============================] - 2s 2ms/step - loss: 0.5150 - accuracy: 0.7721 - val_loss: 0.5354 - val_accuracy: 0.7326 - lr: 1.0000e-04\n"
     ]
    },
    {
     "name": "stdout",
     "output_type": "stream",
     "text": [
      "Epoch 11/1000\n",
      "623/623 [==============================] - 1s 2ms/step - loss: 0.5036 - accuracy: 0.7785 - val_loss: 0.5274 - val_accuracy: 0.7807 - lr: 1.0000e-04\n",
      "Epoch 12/1000\n",
      "623/623 [==============================] - 1s 2ms/step - loss: 0.4951 - accuracy: 0.7929 - val_loss: 0.5222 - val_accuracy: 0.7807 - lr: 1.0000e-04\n",
      "Epoch 13/1000\n",
      "623/623 [==============================] - 1s 2ms/step - loss: 0.4888 - accuracy: 0.7929 - val_loss: 0.5192 - val_accuracy: 0.7807 - lr: 1.0000e-04\n",
      "Epoch 14/1000\n",
      "623/623 [==============================] - 2s 3ms/step - loss: 0.4842 - accuracy: 0.7897 - val_loss: 0.5170 - val_accuracy: 0.7807 - lr: 1.0000e-04\n",
      "Epoch 15/1000\n",
      "623/623 [==============================] - 2s 3ms/step - loss: 0.4805 - accuracy: 0.7849 - val_loss: 0.5155 - val_accuracy: 0.7807 - lr: 1.0000e-04\n",
      "Epoch 16/1000\n",
      "623/623 [==============================] - 2s 2ms/step - loss: 0.4773 - accuracy: 0.7978 - val_loss: 0.5141 - val_accuracy: 0.7754 - lr: 1.0000e-04\n",
      "Epoch 17/1000\n",
      "623/623 [==============================] - 2s 2ms/step - loss: 0.4748 - accuracy: 0.7833 - val_loss: 0.5134 - val_accuracy: 0.7754 - lr: 1.0000e-04\n",
      "Epoch 18/1000\n",
      "623/623 [==============================] - 2s 3ms/step - loss: 0.4724 - accuracy: 0.7865 - val_loss: 0.5130 - val_accuracy: 0.7754 - lr: 1.0000e-04\n",
      "Epoch 19/1000\n",
      "623/623 [==============================] - 2s 2ms/step - loss: 0.4699 - accuracy: 0.7865 - val_loss: 0.5130 - val_accuracy: 0.7754 - lr: 1.0000e-04\n",
      "Epoch 20/1000\n",
      "623/623 [==============================] - 1s 2ms/step - loss: 0.4680 - accuracy: 0.7865 - val_loss: 0.5124 - val_accuracy: 0.7754 - lr: 1.0000e-04\n",
      "Epoch 21/1000\n",
      "623/623 [==============================] - 2s 2ms/step - loss: 0.4659 - accuracy: 0.7865 - val_loss: 0.5122 - val_accuracy: 0.7754 - lr: 1.0000e-04\n",
      "Epoch 22/1000\n",
      "623/623 [==============================] - 2s 3ms/step - loss: 0.4639 - accuracy: 0.7881 - val_loss: 0.5122 - val_accuracy: 0.7754 - lr: 1.0000e-04\n",
      "Epoch 23/1000\n",
      "623/623 [==============================] - 2s 2ms/step - loss: 0.4623 - accuracy: 0.7849 - val_loss: 0.5121 - val_accuracy: 0.7754 - lr: 1.0000e-04\n",
      "Epoch 24/1000\n",
      "623/623 [==============================] - 2s 3ms/step - loss: 0.4606 - accuracy: 0.7833 - val_loss: 0.5121 - val_accuracy: 0.7754 - lr: 1.0000e-04\n",
      "Epoch 25/1000\n",
      "623/623 [==============================] - ETA: 0s - loss: 0.4593 - accuracy: 0.7865\n",
      "Epoch 25: ReduceLROnPlateau reducing learning rate to 1.9999999494757503e-05.\n",
      "623/623 [==============================] - 2s 2ms/step - loss: 0.4593 - accuracy: 0.7865 - val_loss: 0.5126 - val_accuracy: 0.7754 - lr: 1.0000e-04\n",
      "Epoch 26/1000\n",
      "623/623 [==============================] - 1s 2ms/step - loss: 0.4572 - accuracy: 0.7865 - val_loss: 0.5127 - val_accuracy: 0.7754 - lr: 2.0000e-05\n",
      "Epoch 27/1000\n",
      "623/623 [==============================] - 1s 2ms/step - loss: 0.4569 - accuracy: 0.7913 - val_loss: 0.5128 - val_accuracy: 0.7701 - lr: 2.0000e-05\n",
      "Epoch 28/1000\n",
      "623/623 [==============================] - 2s 3ms/step - loss: 0.4566 - accuracy: 0.7978 - val_loss: 0.5129 - val_accuracy: 0.7701 - lr: 2.0000e-05\n",
      "Epoch 29/1000\n",
      "597/623 [===========================>..] - ETA: 0s - loss: 0.4606 - accuracy: 0.7940\n",
      "Epoch 29: ReduceLROnPlateau reducing learning rate to 3.999999898951501e-06.\n",
      "623/623 [==============================] - 1s 2ms/step - loss: 0.4563 - accuracy: 0.7978 - val_loss: 0.5129 - val_accuracy: 0.7701 - lr: 2.0000e-05\n",
      "Epoch 30/1000\n",
      "623/623 [==============================] - 2s 3ms/step - loss: 0.4559 - accuracy: 0.7978 - val_loss: 0.5129 - val_accuracy: 0.7701 - lr: 4.0000e-06\n",
      "Epoch 31/1000\n",
      "623/623 [==============================] - 2s 3ms/step - loss: 0.4558 - accuracy: 0.7978 - val_loss: 0.5130 - val_accuracy: 0.7701 - lr: 4.0000e-06\n",
      "Epoch 32/1000\n",
      "623/623 [==============================] - 2s 2ms/step - loss: 0.4558 - accuracy: 0.7978 - val_loss: 0.5130 - val_accuracy: 0.7701 - lr: 4.0000e-06\n",
      "Epoch 33/1000\n",
      "607/623 [============================>.] - ETA: 0s - loss: 0.4515 - accuracy: 0.8007\n",
      "Epoch 33: ReduceLROnPlateau reducing learning rate to 7.999999979801942e-07.\n",
      "623/623 [==============================] - 2s 3ms/step - loss: 0.4557 - accuracy: 0.7978 - val_loss: 0.5130 - val_accuracy: 0.7701 - lr: 4.0000e-06\n",
      "Epoch 34/1000\n",
      "623/623 [==============================] - 2s 3ms/step - loss: 0.4556 - accuracy: 0.7978 - val_loss: 0.5130 - val_accuracy: 0.7701 - lr: 8.0000e-07\n",
      "Epoch 35/1000\n",
      "623/623 [==============================] - 2s 3ms/step - loss: 0.4556 - accuracy: 0.7978 - val_loss: 0.5130 - val_accuracy: 0.7701 - lr: 8.0000e-07\n",
      "Epoch 36/1000\n",
      "623/623 [==============================] - 1s 2ms/step - loss: 0.4556 - accuracy: 0.7978 - val_loss: 0.5130 - val_accuracy: 0.7701 - lr: 8.0000e-07\n",
      "Epoch 37/1000\n",
      "604/623 [============================>.] - ETA: 0s - loss: 0.4552 - accuracy: 0.7980\n",
      "Epoch 37: ReduceLROnPlateau reducing learning rate to 1.600000018697756e-07.\n",
      "623/623 [==============================] - 1s 2ms/step - loss: 0.4556 - accuracy: 0.7978 - val_loss: 0.5130 - val_accuracy: 0.7701 - lr: 8.0000e-07\n",
      "Epoch 38/1000\n",
      "623/623 [==============================] - 1s 2ms/step - loss: 0.4556 - accuracy: 0.7978 - val_loss: 0.5130 - val_accuracy: 0.7701 - lr: 1.6000e-07\n",
      "Epoch 39/1000\n",
      "623/623 [==============================] - 1s 2ms/step - loss: 0.4556 - accuracy: 0.7978 - val_loss: 0.5130 - val_accuracy: 0.7701 - lr: 1.6000e-07\n",
      "Epoch 40/1000\n",
      "623/623 [==============================] - 2s 3ms/step - loss: 0.4556 - accuracy: 0.7978 - val_loss: 0.5130 - val_accuracy: 0.7701 - lr: 1.6000e-07\n",
      "3/3 [==============================] - 0s 3ms/step\n",
      "accuracy:  0.827\n",
      "recall:  0.786\n",
      "precission:  0.733\n",
      "F1-score:  0.759\n",
      "\n",
      " confusion matrix\n",
      " [[45  8]\n",
      " [ 6 22]]\n",
      "\n",
      "               precision    recall  f1-score   support\n",
      "\n",
      "           0       0.88      0.85      0.87        53\n",
      "           1       0.73      0.79      0.76        28\n",
      "\n",
      "    accuracy                           0.83        81\n",
      "   macro avg       0.81      0.82      0.81        81\n",
      "weighted avg       0.83      0.83      0.83        81\n",
      "\n",
      "Epoch 1/1000\n",
      "623/623 [==============================] - 3s 3ms/step - loss: 0.6725 - accuracy: 0.6565 - val_loss: 0.6556 - val_accuracy: 0.6471 - lr: 1.0000e-04\n",
      "Epoch 2/1000\n",
      "623/623 [==============================] - 2s 2ms/step - loss: 0.6412 - accuracy: 0.6469 - val_loss: 0.6332 - val_accuracy: 0.6471 - lr: 1.0000e-04\n",
      "Epoch 3/1000\n",
      "623/623 [==============================] - 2s 3ms/step - loss: 0.6200 - accuracy: 0.6469 - val_loss: 0.6168 - val_accuracy: 0.6471 - lr: 1.0000e-04\n",
      "Epoch 4/1000\n",
      "623/623 [==============================] - 2s 2ms/step - loss: 0.6000 - accuracy: 0.6469 - val_loss: 0.6001 - val_accuracy: 0.6471 - lr: 1.0000e-04\n",
      "Epoch 5/1000\n",
      "623/623 [==============================] - 2s 3ms/step - loss: 0.5784 - accuracy: 0.6469 - val_loss: 0.5824 - val_accuracy: 0.6471 - lr: 1.0000e-04\n",
      "Epoch 6/1000\n",
      "623/623 [==============================] - 2s 2ms/step - loss: 0.5550 - accuracy: 0.6822 - val_loss: 0.5629 - val_accuracy: 0.7059 - lr: 1.0000e-04\n",
      "Epoch 7/1000\n",
      "623/623 [==============================] - 1s 2ms/step - loss: 0.5297 - accuracy: 0.7432 - val_loss: 0.5454 - val_accuracy: 0.7219 - lr: 1.0000e-04\n",
      "Epoch 8/1000\n",
      "623/623 [==============================] - 1s 2ms/step - loss: 0.5109 - accuracy: 0.7496 - val_loss: 0.5342 - val_accuracy: 0.7219 - lr: 1.0000e-04\n",
      "Epoch 9/1000\n",
      "623/623 [==============================] - 1s 2ms/step - loss: 0.4977 - accuracy: 0.7496 - val_loss: 0.5260 - val_accuracy: 0.7219 - lr: 1.0000e-04\n",
      "Epoch 10/1000\n",
      "623/623 [==============================] - 1s 2ms/step - loss: 0.4882 - accuracy: 0.7496 - val_loss: 0.5203 - val_accuracy: 0.7219 - lr: 1.0000e-04\n",
      "Epoch 11/1000\n",
      "623/623 [==============================] - 1s 2ms/step - loss: 0.4814 - accuracy: 0.7496 - val_loss: 0.5164 - val_accuracy: 0.7219 - lr: 1.0000e-04\n",
      "Epoch 12/1000\n",
      "623/623 [==============================] - 2s 3ms/step - loss: 0.4756 - accuracy: 0.7769 - val_loss: 0.5138 - val_accuracy: 0.7326 - lr: 1.0000e-04\n",
      "Epoch 13/1000\n",
      "623/623 [==============================] - 2s 3ms/step - loss: 0.4714 - accuracy: 0.7817 - val_loss: 0.5103 - val_accuracy: 0.7273 - lr: 1.0000e-04\n",
      "Epoch 14/1000\n",
      "623/623 [==============================] - 2s 3ms/step - loss: 0.4676 - accuracy: 0.7961 - val_loss: 0.5083 - val_accuracy: 0.7807 - lr: 1.0000e-04\n"
     ]
    },
    {
     "name": "stdout",
     "output_type": "stream",
     "text": [
      "Epoch 15/1000\n",
      "623/623 [==============================] - 1s 2ms/step - loss: 0.4637 - accuracy: 0.7897 - val_loss: 0.5096 - val_accuracy: 0.7273 - lr: 1.0000e-04\n",
      "Epoch 16/1000\n",
      "623/623 [==============================] - 2s 2ms/step - loss: 0.4630 - accuracy: 0.7849 - val_loss: 0.5071 - val_accuracy: 0.7754 - lr: 1.0000e-04\n",
      "Epoch 17/1000\n",
      "623/623 [==============================] - 1s 2ms/step - loss: 0.4610 - accuracy: 0.7865 - val_loss: 0.5068 - val_accuracy: 0.7754 - lr: 1.0000e-04\n",
      "Epoch 18/1000\n",
      "623/623 [==============================] - 2s 3ms/step - loss: 0.4592 - accuracy: 0.7865 - val_loss: 0.5073 - val_accuracy: 0.7754 - lr: 1.0000e-04\n",
      "Epoch 19/1000\n",
      "623/623 [==============================] - 2s 3ms/step - loss: 0.4577 - accuracy: 0.7817 - val_loss: 0.5057 - val_accuracy: 0.7754 - lr: 1.0000e-04\n",
      "Epoch 20/1000\n",
      "623/623 [==============================] - 2s 2ms/step - loss: 0.4566 - accuracy: 0.7865 - val_loss: 0.5054 - val_accuracy: 0.7754 - lr: 1.0000e-04\n",
      "Epoch 21/1000\n",
      "623/623 [==============================] - 2s 2ms/step - loss: 0.4555 - accuracy: 0.7865 - val_loss: 0.5059 - val_accuracy: 0.7754 - lr: 1.0000e-04\n",
      "Epoch 22/1000\n",
      "623/623 [==============================] - 1s 2ms/step - loss: 0.4539 - accuracy: 0.7865 - val_loss: 0.5077 - val_accuracy: 0.7754 - lr: 1.0000e-04\n",
      "Epoch 23/1000\n",
      "623/623 [==============================] - 2s 2ms/step - loss: 0.4531 - accuracy: 0.7865 - val_loss: 0.5083 - val_accuracy: 0.7754 - lr: 1.0000e-04\n",
      "Epoch 24/1000\n",
      "620/623 [============================>.] - ETA: 0s - loss: 0.4528 - accuracy: 0.7839\n",
      "Epoch 24: ReduceLROnPlateau reducing learning rate to 1.9999999494757503e-05.\n",
      "623/623 [==============================] - 2s 3ms/step - loss: 0.4522 - accuracy: 0.7849 - val_loss: 0.5081 - val_accuracy: 0.7754 - lr: 1.0000e-04\n",
      "Epoch 25/1000\n",
      "623/623 [==============================] - 2s 3ms/step - loss: 0.4504 - accuracy: 0.7865 - val_loss: 0.5079 - val_accuracy: 0.7754 - lr: 2.0000e-05\n",
      "Epoch 26/1000\n",
      "623/623 [==============================] - 1s 2ms/step - loss: 0.4501 - accuracy: 0.7865 - val_loss: 0.5077 - val_accuracy: 0.7754 - lr: 2.0000e-05\n",
      "Epoch 27/1000\n",
      "623/623 [==============================] - 2s 2ms/step - loss: 0.4499 - accuracy: 0.7865 - val_loss: 0.5077 - val_accuracy: 0.7754 - lr: 2.0000e-05\n",
      "Epoch 28/1000\n",
      "619/623 [============================>.] - ETA: 0s - loss: 0.4455 - accuracy: 0.7932\n",
      "Epoch 28: ReduceLROnPlateau reducing learning rate to 3.999999898951501e-06.\n",
      "623/623 [==============================] - 1s 2ms/step - loss: 0.4496 - accuracy: 0.7913 - val_loss: 0.5076 - val_accuracy: 0.7701 - lr: 2.0000e-05\n",
      "Epoch 29/1000\n",
      "623/623 [==============================] - 1s 2ms/step - loss: 0.4492 - accuracy: 0.7978 - val_loss: 0.5076 - val_accuracy: 0.7701 - lr: 4.0000e-06\n",
      "Epoch 30/1000\n",
      "623/623 [==============================] - 1s 2ms/step - loss: 0.4492 - accuracy: 0.7978 - val_loss: 0.5076 - val_accuracy: 0.7701 - lr: 4.0000e-06\n",
      "Epoch 31/1000\n",
      "623/623 [==============================] - 2s 2ms/step - loss: 0.4491 - accuracy: 0.7978 - val_loss: 0.5076 - val_accuracy: 0.7701 - lr: 4.0000e-06\n",
      "Epoch 32/1000\n",
      "620/623 [============================>.] - ETA: 0s - loss: 0.4504 - accuracy: 0.7968\n",
      "Epoch 32: ReduceLROnPlateau reducing learning rate to 7.999999979801942e-07.\n",
      "623/623 [==============================] - 1s 2ms/step - loss: 0.4491 - accuracy: 0.7978 - val_loss: 0.5076 - val_accuracy: 0.7701 - lr: 4.0000e-06\n",
      "Epoch 33/1000\n",
      "623/623 [==============================] - 1s 2ms/step - loss: 0.4490 - accuracy: 0.7978 - val_loss: 0.5076 - val_accuracy: 0.7701 - lr: 8.0000e-07\n",
      "Epoch 34/1000\n",
      "623/623 [==============================] - 2s 3ms/step - loss: 0.4490 - accuracy: 0.7978 - val_loss: 0.5076 - val_accuracy: 0.7701 - lr: 8.0000e-07\n",
      "Epoch 35/1000\n",
      "623/623 [==============================] - 1s 2ms/step - loss: 0.4490 - accuracy: 0.7978 - val_loss: 0.5076 - val_accuracy: 0.7701 - lr: 8.0000e-07\n",
      "Epoch 36/1000\n",
      "623/623 [==============================] - ETA: 0s - loss: 0.4490 - accuracy: 0.7978\n",
      "Epoch 36: ReduceLROnPlateau reducing learning rate to 1.600000018697756e-07.\n",
      "623/623 [==============================] - 1s 2ms/step - loss: 0.4490 - accuracy: 0.7978 - val_loss: 0.5076 - val_accuracy: 0.7701 - lr: 8.0000e-07\n",
      "3/3 [==============================] - 0s 2ms/step\n",
      "accuracy:  0.827\n",
      "recall:  0.786\n",
      "precission:  0.733\n",
      "F1-score:  0.759\n",
      "\n",
      " confusion matrix\n",
      " [[45  8]\n",
      " [ 6 22]]\n",
      "\n",
      "               precision    recall  f1-score   support\n",
      "\n",
      "           0       0.88      0.85      0.87        53\n",
      "           1       0.73      0.79      0.76        28\n",
      "\n",
      "    accuracy                           0.83        81\n",
      "   macro avg       0.81      0.82      0.81        81\n",
      "weighted avg       0.83      0.83      0.83        81\n",
      "\n",
      "Epoch 1/1000\n",
      "623/623 [==============================] - 3s 3ms/step - loss: 0.6808 - accuracy: 0.6469 - val_loss: 0.6702 - val_accuracy: 0.6471 - lr: 1.0000e-04\n",
      "Epoch 2/1000\n",
      "623/623 [==============================] - 1s 2ms/step - loss: 0.6618 - accuracy: 0.6469 - val_loss: 0.6545 - val_accuracy: 0.6471 - lr: 1.0000e-04\n",
      "Epoch 3/1000\n",
      "623/623 [==============================] - 2s 2ms/step - loss: 0.6477 - accuracy: 0.6469 - val_loss: 0.6434 - val_accuracy: 0.6471 - lr: 1.0000e-04\n",
      "Epoch 4/1000\n",
      "623/623 [==============================] - 1s 2ms/step - loss: 0.6359 - accuracy: 0.6469 - val_loss: 0.6332 - val_accuracy: 0.6471 - lr: 1.0000e-04\n",
      "Epoch 5/1000\n",
      "623/623 [==============================] - 1s 2ms/step - loss: 0.6229 - accuracy: 0.6469 - val_loss: 0.6215 - val_accuracy: 0.6471 - lr: 1.0000e-04\n",
      "Epoch 6/1000\n",
      "623/623 [==============================] - 1s 2ms/step - loss: 0.6061 - accuracy: 0.6469 - val_loss: 0.6061 - val_accuracy: 0.6471 - lr: 1.0000e-04\n",
      "Epoch 7/1000\n",
      "623/623 [==============================] - 2s 3ms/step - loss: 0.5840 - accuracy: 0.7047 - val_loss: 0.5867 - val_accuracy: 0.6845 - lr: 1.0000e-04\n",
      "Epoch 8/1000\n",
      "623/623 [==============================] - 2s 3ms/step - loss: 0.5595 - accuracy: 0.7448 - val_loss: 0.5687 - val_accuracy: 0.7219 - lr: 1.0000e-04\n",
      "Epoch 9/1000\n",
      "623/623 [==============================] - 1s 2ms/step - loss: 0.5395 - accuracy: 0.7496 - val_loss: 0.5545 - val_accuracy: 0.7219 - lr: 1.0000e-04\n",
      "Epoch 10/1000\n",
      "623/623 [==============================] - 2s 2ms/step - loss: 0.5234 - accuracy: 0.7496 - val_loss: 0.5431 - val_accuracy: 0.7219 - lr: 1.0000e-04\n",
      "Epoch 11/1000\n",
      "623/623 [==============================] - 1s 2ms/step - loss: 0.5104 - accuracy: 0.7496 - val_loss: 0.5339 - val_accuracy: 0.7219 - lr: 1.0000e-04\n",
      "Epoch 12/1000\n",
      "623/623 [==============================] - 1s 2ms/step - loss: 0.5000 - accuracy: 0.7496 - val_loss: 0.5269 - val_accuracy: 0.7219 - lr: 1.0000e-04\n",
      "Epoch 13/1000\n",
      "623/623 [==============================] - 1s 2ms/step - loss: 0.4915 - accuracy: 0.7464 - val_loss: 0.5203 - val_accuracy: 0.7326 - lr: 1.0000e-04\n",
      "Epoch 14/1000\n",
      "623/623 [==============================] - 2s 3ms/step - loss: 0.4839 - accuracy: 0.7737 - val_loss: 0.5154 - val_accuracy: 0.7594 - lr: 1.0000e-04\n",
      "Epoch 15/1000\n",
      "623/623 [==============================] - 1s 2ms/step - loss: 0.4784 - accuracy: 0.7833 - val_loss: 0.5113 - val_accuracy: 0.7807 - lr: 1.0000e-04\n",
      "Epoch 16/1000\n",
      "623/623 [==============================] - 2s 2ms/step - loss: 0.4741 - accuracy: 0.7945 - val_loss: 0.5091 - val_accuracy: 0.7807 - lr: 1.0000e-04\n",
      "Epoch 17/1000\n",
      "623/623 [==============================] - 2s 2ms/step - loss: 0.4712 - accuracy: 0.7881 - val_loss: 0.5082 - val_accuracy: 0.7807 - lr: 1.0000e-04\n",
      "Epoch 18/1000\n",
      "623/623 [==============================] - 2s 3ms/step - loss: 0.4687 - accuracy: 0.7817 - val_loss: 0.5075 - val_accuracy: 0.7807 - lr: 1.0000e-04\n",
      "Epoch 19/1000\n",
      "623/623 [==============================] - 1s 2ms/step - loss: 0.4662 - accuracy: 0.7865 - val_loss: 0.5056 - val_accuracy: 0.7754 - lr: 1.0000e-04\n",
      "Epoch 20/1000\n",
      "623/623 [==============================] - 2s 3ms/step - loss: 0.4649 - accuracy: 0.7849 - val_loss: 0.5064 - val_accuracy: 0.7754 - lr: 1.0000e-04\n",
      "Epoch 21/1000\n",
      "623/623 [==============================] - 2s 3ms/step - loss: 0.4636 - accuracy: 0.7849 - val_loss: 0.5059 - val_accuracy: 0.7754 - lr: 1.0000e-04\n",
      "Epoch 22/1000\n",
      "623/623 [==============================] - 1s 2ms/step - loss: 0.4621 - accuracy: 0.7865 - val_loss: 0.5064 - val_accuracy: 0.7754 - lr: 1.0000e-04\n"
     ]
    },
    {
     "name": "stdout",
     "output_type": "stream",
     "text": [
      "Epoch 23/1000\n",
      "623/623 [==============================] - 1s 2ms/step - loss: 0.4608 - accuracy: 0.7913 - val_loss: 0.5052 - val_accuracy: 0.7754 - lr: 1.0000e-04\n",
      "Epoch 24/1000\n",
      "623/623 [==============================] - 1s 2ms/step - loss: 0.4595 - accuracy: 0.7865 - val_loss: 0.5062 - val_accuracy: 0.7754 - lr: 1.0000e-04\n",
      "Epoch 25/1000\n",
      "623/623 [==============================] - 1s 2ms/step - loss: 0.4585 - accuracy: 0.7833 - val_loss: 0.5055 - val_accuracy: 0.7754 - lr: 1.0000e-04\n",
      "Epoch 26/1000\n",
      "623/623 [==============================] - 1s 2ms/step - loss: 0.4574 - accuracy: 0.7865 - val_loss: 0.5055 - val_accuracy: 0.7754 - lr: 1.0000e-04\n",
      "Epoch 27/1000\n",
      "609/623 [============================>.] - ETA: 0s - loss: 0.4595 - accuracy: 0.7833\n",
      "Epoch 27: ReduceLROnPlateau reducing learning rate to 1.9999999494757503e-05.\n",
      "623/623 [==============================] - 2s 3ms/step - loss: 0.4563 - accuracy: 0.7865 - val_loss: 0.5060 - val_accuracy: 0.7754 - lr: 1.0000e-04\n",
      "Epoch 28/1000\n",
      "623/623 [==============================] - 2s 3ms/step - loss: 0.4547 - accuracy: 0.7865 - val_loss: 0.5060 - val_accuracy: 0.7754 - lr: 2.0000e-05\n",
      "Epoch 29/1000\n",
      "623/623 [==============================] - 2s 3ms/step - loss: 0.4545 - accuracy: 0.7865 - val_loss: 0.5060 - val_accuracy: 0.7754 - lr: 2.0000e-05\n",
      "Epoch 30/1000\n",
      "623/623 [==============================] - 1s 2ms/step - loss: 0.4543 - accuracy: 0.7865 - val_loss: 0.5060 - val_accuracy: 0.7754 - lr: 2.0000e-05\n",
      "Epoch 31/1000\n",
      "614/623 [============================>.] - ETA: 0s - loss: 0.4555 - accuracy: 0.7850\n",
      "Epoch 31: ReduceLROnPlateau reducing learning rate to 3.999999898951501e-06.\n",
      "623/623 [==============================] - 1s 2ms/step - loss: 0.4540 - accuracy: 0.7865 - val_loss: 0.5061 - val_accuracy: 0.7754 - lr: 2.0000e-05\n",
      "Epoch 32/1000\n",
      "623/623 [==============================] - 1s 2ms/step - loss: 0.4537 - accuracy: 0.7865 - val_loss: 0.5061 - val_accuracy: 0.7754 - lr: 4.0000e-06\n",
      "Epoch 33/1000\n",
      "623/623 [==============================] - 2s 3ms/step - loss: 0.4537 - accuracy: 0.7865 - val_loss: 0.5061 - val_accuracy: 0.7754 - lr: 4.0000e-06\n",
      "Epoch 34/1000\n",
      "623/623 [==============================] - 1s 2ms/step - loss: 0.4536 - accuracy: 0.7865 - val_loss: 0.5061 - val_accuracy: 0.7754 - lr: 4.0000e-06\n",
      "Epoch 35/1000\n",
      "623/623 [==============================] - ETA: 0s - loss: 0.4536 - accuracy: 0.7865\n",
      "Epoch 35: ReduceLROnPlateau reducing learning rate to 7.999999979801942e-07.\n",
      "623/623 [==============================] - 2s 2ms/step - loss: 0.4536 - accuracy: 0.7865 - val_loss: 0.5061 - val_accuracy: 0.7754 - lr: 4.0000e-06\n",
      "Epoch 36/1000\n",
      "623/623 [==============================] - 1s 2ms/step - loss: 0.4535 - accuracy: 0.7865 - val_loss: 0.5061 - val_accuracy: 0.7754 - lr: 8.0000e-07\n",
      "Epoch 37/1000\n",
      "623/623 [==============================] - 1s 2ms/step - loss: 0.4535 - accuracy: 0.7865 - val_loss: 0.5061 - val_accuracy: 0.7754 - lr: 8.0000e-07\n",
      "Epoch 38/1000\n",
      "623/623 [==============================] - 2s 3ms/step - loss: 0.4535 - accuracy: 0.7865 - val_loss: 0.5061 - val_accuracy: 0.7754 - lr: 8.0000e-07\n",
      "Epoch 39/1000\n",
      "609/623 [============================>.] - ETA: 0s - loss: 0.4548 - accuracy: 0.7865\n",
      "Epoch 39: ReduceLROnPlateau reducing learning rate to 1.600000018697756e-07.\n",
      "623/623 [==============================] - 2s 3ms/step - loss: 0.4535 - accuracy: 0.7865 - val_loss: 0.5061 - val_accuracy: 0.7754 - lr: 8.0000e-07\n",
      "3/3 [==============================] - 0s 3ms/step\n",
      "accuracy:  0.827\n",
      "recall:  0.786\n",
      "precission:  0.733\n",
      "F1-score:  0.759\n",
      "\n",
      " confusion matrix\n",
      " [[45  8]\n",
      " [ 6 22]]\n",
      "\n",
      "               precision    recall  f1-score   support\n",
      "\n",
      "           0       0.88      0.85      0.87        53\n",
      "           1       0.73      0.79      0.76        28\n",
      "\n",
      "    accuracy                           0.83        81\n",
      "   macro avg       0.81      0.82      0.81        81\n",
      "weighted avg       0.83      0.83      0.83        81\n",
      "\n",
      "Epoch 1/1000\n",
      "623/623 [==============================] - 4s 3ms/step - loss: 0.6721 - accuracy: 0.6276 - val_loss: 0.6520 - val_accuracy: 0.6471 - lr: 1.0000e-04\n",
      "Epoch 2/1000\n",
      "623/623 [==============================] - 2s 3ms/step - loss: 0.6396 - accuracy: 0.6469 - val_loss: 0.6316 - val_accuracy: 0.6471 - lr: 1.0000e-04\n",
      "Epoch 3/1000\n",
      "623/623 [==============================] - 2s 3ms/step - loss: 0.6181 - accuracy: 0.6469 - val_loss: 0.6135 - val_accuracy: 0.6471 - lr: 1.0000e-04\n",
      "Epoch 4/1000\n",
      "623/623 [==============================] - 2s 3ms/step - loss: 0.5947 - accuracy: 0.6469 - val_loss: 0.5935 - val_accuracy: 0.6471 - lr: 1.0000e-04\n",
      "Epoch 5/1000\n",
      "623/623 [==============================] - 2s 3ms/step - loss: 0.5682 - accuracy: 0.6709 - val_loss: 0.5700 - val_accuracy: 0.7273 - lr: 1.0000e-04\n",
      "Epoch 6/1000\n",
      "623/623 [==============================] - 2s 2ms/step - loss: 0.5387 - accuracy: 0.7480 - val_loss: 0.5506 - val_accuracy: 0.7219 - lr: 1.0000e-04\n",
      "Epoch 7/1000\n",
      "623/623 [==============================] - 2s 3ms/step - loss: 0.5176 - accuracy: 0.7496 - val_loss: 0.5374 - val_accuracy: 0.7219 - lr: 1.0000e-04\n",
      "Epoch 8/1000\n",
      "623/623 [==============================] - 2s 3ms/step - loss: 0.5024 - accuracy: 0.7496 - val_loss: 0.5279 - val_accuracy: 0.7219 - lr: 1.0000e-04\n",
      "Epoch 9/1000\n",
      "623/623 [==============================] - 1s 2ms/step - loss: 0.4915 - accuracy: 0.7496 - val_loss: 0.5219 - val_accuracy: 0.7219 - lr: 1.0000e-04\n",
      "Epoch 10/1000\n",
      "623/623 [==============================] - 1s 2ms/step - loss: 0.4831 - accuracy: 0.7496 - val_loss: 0.5167 - val_accuracy: 0.7219 - lr: 1.0000e-04\n",
      "Epoch 11/1000\n",
      "623/623 [==============================] - 2s 3ms/step - loss: 0.4770 - accuracy: 0.7512 - val_loss: 0.5138 - val_accuracy: 0.7219 - lr: 1.0000e-04\n",
      "Epoch 12/1000\n",
      "623/623 [==============================] - 2s 2ms/step - loss: 0.4727 - accuracy: 0.7801 - val_loss: 0.5118 - val_accuracy: 0.7540 - lr: 1.0000e-04\n",
      "Epoch 13/1000\n",
      "623/623 [==============================] - 2s 3ms/step - loss: 0.4690 - accuracy: 0.7753 - val_loss: 0.5086 - val_accuracy: 0.7807 - lr: 1.0000e-04\n",
      "Epoch 14/1000\n",
      "623/623 [==============================] - 1s 2ms/step - loss: 0.4659 - accuracy: 0.7913 - val_loss: 0.5077 - val_accuracy: 0.7754 - lr: 1.0000e-04\n",
      "Epoch 15/1000\n",
      "623/623 [==============================] - 2s 2ms/step - loss: 0.4631 - accuracy: 0.7961 - val_loss: 0.5054 - val_accuracy: 0.7754 - lr: 1.0000e-04\n",
      "Epoch 16/1000\n",
      "623/623 [==============================] - 1s 2ms/step - loss: 0.4610 - accuracy: 0.7865 - val_loss: 0.5072 - val_accuracy: 0.7754 - lr: 1.0000e-04\n",
      "Epoch 17/1000\n",
      "623/623 [==============================] - 2s 3ms/step - loss: 0.4597 - accuracy: 0.7865 - val_loss: 0.5062 - val_accuracy: 0.7754 - lr: 1.0000e-04\n",
      "Epoch 18/1000\n",
      "623/623 [==============================] - 2s 3ms/step - loss: 0.4580 - accuracy: 0.7849 - val_loss: 0.5068 - val_accuracy: 0.7754 - lr: 1.0000e-04\n",
      "Epoch 19/1000\n",
      "623/623 [==============================] - ETA: 0s - loss: 0.4566 - accuracy: 0.7865\n",
      "Epoch 19: ReduceLROnPlateau reducing learning rate to 1.9999999494757503e-05.\n",
      "623/623 [==============================] - 2s 3ms/step - loss: 0.4566 - accuracy: 0.7865 - val_loss: 0.5064 - val_accuracy: 0.7754 - lr: 1.0000e-04\n",
      "Epoch 20/1000\n",
      "623/623 [==============================] - 1s 2ms/step - loss: 0.4544 - accuracy: 0.7865 - val_loss: 0.5062 - val_accuracy: 0.7754 - lr: 2.0000e-05\n",
      "Epoch 21/1000\n",
      "623/623 [==============================] - 2s 2ms/step - loss: 0.4541 - accuracy: 0.7865 - val_loss: 0.5065 - val_accuracy: 0.7754 - lr: 2.0000e-05\n",
      "Epoch 22/1000\n",
      "623/623 [==============================] - 1s 2ms/step - loss: 0.4539 - accuracy: 0.7865 - val_loss: 0.5062 - val_accuracy: 0.7754 - lr: 2.0000e-05\n",
      "Epoch 23/1000\n",
      "618/623 [============================>.] - ETA: 0s - loss: 0.4515 - accuracy: 0.7896\n",
      "Epoch 23: ReduceLROnPlateau reducing learning rate to 3.999999898951501e-06.\n",
      "623/623 [==============================] - 2s 3ms/step - loss: 0.4535 - accuracy: 0.7865 - val_loss: 0.5060 - val_accuracy: 0.7754 - lr: 2.0000e-05\n",
      "Epoch 24/1000\n",
      "623/623 [==============================] - 2s 2ms/step - loss: 0.4531 - accuracy: 0.7865 - val_loss: 0.5060 - val_accuracy: 0.7754 - lr: 4.0000e-06\n",
      "Epoch 25/1000\n",
      "623/623 [==============================] - 2s 2ms/step - loss: 0.4531 - accuracy: 0.7865 - val_loss: 0.5061 - val_accuracy: 0.7754 - lr: 4.0000e-06\n"
     ]
    },
    {
     "name": "stdout",
     "output_type": "stream",
     "text": [
      "Epoch 26/1000\n",
      "623/623 [==============================] - 2s 2ms/step - loss: 0.4530 - accuracy: 0.7865 - val_loss: 0.5061 - val_accuracy: 0.7754 - lr: 4.0000e-06\n",
      "Epoch 27/1000\n",
      "622/623 [============================>.] - ETA: 0s - loss: 0.4504 - accuracy: 0.7878\n",
      "Epoch 27: ReduceLROnPlateau reducing learning rate to 7.999999979801942e-07.\n",
      "623/623 [==============================] - 2s 3ms/step - loss: 0.4530 - accuracy: 0.7865 - val_loss: 0.5061 - val_accuracy: 0.7754 - lr: 4.0000e-06\n",
      "Epoch 28/1000\n",
      "623/623 [==============================] - 2s 2ms/step - loss: 0.4529 - accuracy: 0.7865 - val_loss: 0.5061 - val_accuracy: 0.7754 - lr: 8.0000e-07\n",
      "Epoch 29/1000\n",
      "623/623 [==============================] - 1s 2ms/step - loss: 0.4529 - accuracy: 0.7865 - val_loss: 0.5061 - val_accuracy: 0.7754 - lr: 8.0000e-07\n",
      "Epoch 30/1000\n",
      "623/623 [==============================] - 2s 3ms/step - loss: 0.4528 - accuracy: 0.7865 - val_loss: 0.5061 - val_accuracy: 0.7754 - lr: 8.0000e-07\n",
      "Epoch 31/1000\n",
      "606/623 [============================>.] - ETA: 0s - loss: 0.4452 - accuracy: 0.7904\n",
      "Epoch 31: ReduceLROnPlateau reducing learning rate to 1.600000018697756e-07.\n",
      "623/623 [==============================] - 1s 2ms/step - loss: 0.4528 - accuracy: 0.7865 - val_loss: 0.5061 - val_accuracy: 0.7754 - lr: 8.0000e-07\n",
      "WARNING:tensorflow:5 out of the last 13 calls to <function Model.make_predict_function.<locals>.predict_function at 0x00000279995C0670> triggered tf.function retracing. Tracing is expensive and the excessive number of tracings could be due to (1) creating @tf.function repeatedly in a loop, (2) passing tensors with different shapes, (3) passing Python objects instead of tensors. For (1), please define your @tf.function outside of the loop. For (2), @tf.function has reduce_retracing=True option that can avoid unnecessary retracing. For (3), please refer to https://www.tensorflow.org/guide/function#controlling_retracing and https://www.tensorflow.org/api_docs/python/tf/function for  more details.\n",
      "3/3 [==============================] - 0s 3ms/step\n",
      "accuracy:  0.827\n",
      "recall:  0.786\n",
      "precission:  0.733\n",
      "F1-score:  0.759\n",
      "\n",
      " confusion matrix\n",
      " [[45  8]\n",
      " [ 6 22]]\n",
      "\n",
      "               precision    recall  f1-score   support\n",
      "\n",
      "           0       0.88      0.85      0.87        53\n",
      "           1       0.73      0.79      0.76        28\n",
      "\n",
      "    accuracy                           0.83        81\n",
      "   macro avg       0.81      0.82      0.81        81\n",
      "weighted avg       0.83      0.83      0.83        81\n",
      "\n"
     ]
    },
    {
     "data": {
      "text/html": [
       "<div>\n",
       "<style scoped>\n",
       "    .dataframe tbody tr th:only-of-type {\n",
       "        vertical-align: middle;\n",
       "    }\n",
       "\n",
       "    .dataframe tbody tr th {\n",
       "        vertical-align: top;\n",
       "    }\n",
       "\n",
       "    .dataframe thead th {\n",
       "        text-align: right;\n",
       "    }\n",
       "</style>\n",
       "<table border=\"1\" class=\"dataframe\">\n",
       "  <thead>\n",
       "    <tr style=\"text-align: right;\">\n",
       "      <th></th>\n",
       "      <th>Accuracy</th>\n",
       "      <th>Recall</th>\n",
       "      <th>Precision</th>\n",
       "      <th>F1</th>\n",
       "    </tr>\n",
       "    <tr>\n",
       "      <th>Iteration</th>\n",
       "      <th></th>\n",
       "      <th></th>\n",
       "      <th></th>\n",
       "      <th></th>\n",
       "    </tr>\n",
       "  </thead>\n",
       "  <tbody>\n",
       "    <tr>\n",
       "      <th>0</th>\n",
       "      <td>0.827</td>\n",
       "      <td>0.786</td>\n",
       "      <td>0.733</td>\n",
       "      <td>0.759</td>\n",
       "    </tr>\n",
       "    <tr>\n",
       "      <th>1</th>\n",
       "      <td>0.827</td>\n",
       "      <td>0.786</td>\n",
       "      <td>0.733</td>\n",
       "      <td>0.759</td>\n",
       "    </tr>\n",
       "    <tr>\n",
       "      <th>2</th>\n",
       "      <td>0.827</td>\n",
       "      <td>0.786</td>\n",
       "      <td>0.733</td>\n",
       "      <td>0.759</td>\n",
       "    </tr>\n",
       "    <tr>\n",
       "      <th>3</th>\n",
       "      <td>0.827</td>\n",
       "      <td>0.786</td>\n",
       "      <td>0.733</td>\n",
       "      <td>0.759</td>\n",
       "    </tr>\n",
       "    <tr>\n",
       "      <th>4</th>\n",
       "      <td>0.827</td>\n",
       "      <td>0.786</td>\n",
       "      <td>0.733</td>\n",
       "      <td>0.759</td>\n",
       "    </tr>\n",
       "    <tr>\n",
       "      <th>Mean</th>\n",
       "      <td>0.827</td>\n",
       "      <td>0.786</td>\n",
       "      <td>0.733</td>\n",
       "      <td>0.759</td>\n",
       "    </tr>\n",
       "  </tbody>\n",
       "</table>\n",
       "</div>"
      ],
      "text/plain": [
       "           Accuracy  Recall  Precision     F1\n",
       "Iteration                                    \n",
       "0             0.827   0.786      0.733  0.759\n",
       "1             0.827   0.786      0.733  0.759\n",
       "2             0.827   0.786      0.733  0.759\n",
       "3             0.827   0.786      0.733  0.759\n",
       "4             0.827   0.786      0.733  0.759\n",
       "Mean          0.827   0.786      0.733  0.759"
      ]
     },
     "execution_count": 50,
     "metadata": {},
     "output_type": "execute_result"
    }
   ],
   "source": [
    "# tf.random.set_seed(7788)\n",
    "# np.random.seed(7788)\n",
    "\n",
    "#initiate data items\n",
    "df_final=pd.DataFrame()\n",
    "colls = X_test.columns\n",
    "\n",
    "#loop several iterations and get metrics\n",
    "for iteration in range(5):\n",
    "    model_emb=TrainEmbdModel(X_train)\n",
    "    pred=model_emb.predict([X_test[coll].to_numpy() for coll in colls])\n",
    "    predictions=pred.round()\n",
    "    metrics=DisplayMetrics(y_test,predictions)\n",
    "    df=pd.DataFrame(metrics)\n",
    "    df_final=df_final.append(df)\n",
    "\n",
    "#Calculate means and create dataframe\n",
    "df_final['Iteration'] = [x for x in range(len(df_final))]      \n",
    "Accuracy = df_final.Accuracy.mean()\n",
    "Recall = df_final.Recall.mean()\n",
    "Precision = df_final.Precision.mean()\n",
    "F1 = df_final.F1.mean()\n",
    "dicti = {'Iteration':'Mean','Accuracy':[Accuracy],'Recall':[Recall],'Precision':[Precision],'F1':[F1]}\n",
    "df_temp = pd.DataFrame(dicti)\n",
    "df_final = df_final.append(df_temp)\n",
    "df_final = df_final.set_index('Iteration')\n",
    "#df_final"
   ]
  },
  {
   "cell_type": "markdown",
   "metadata": {},
   "source": [
    "<b>Evaluate and compare both models</b>"
   ]
  },
  {
   "cell_type": "code",
   "execution_count": 54,
   "metadata": {},
   "outputs": [
    {
     "data": {
      "text/html": [
       "<div>\n",
       "<style scoped>\n",
       "    .dataframe tbody tr th:only-of-type {\n",
       "        vertical-align: middle;\n",
       "    }\n",
       "\n",
       "    .dataframe tbody tr th {\n",
       "        vertical-align: top;\n",
       "    }\n",
       "\n",
       "    .dataframe thead th {\n",
       "        text-align: right;\n",
       "    }\n",
       "</style>\n",
       "<table border=\"1\" class=\"dataframe\">\n",
       "  <thead>\n",
       "    <tr style=\"text-align: right;\">\n",
       "      <th></th>\n",
       "      <th>NeuralNetwork</th>\n",
       "      <th>DecissionTree</th>\n",
       "    </tr>\n",
       "  </thead>\n",
       "  <tbody>\n",
       "    <tr>\n",
       "      <th>Accuracy</th>\n",
       "      <td>0.827</td>\n",
       "      <td>0.741</td>\n",
       "    </tr>\n",
       "    <tr>\n",
       "      <th>Recall</th>\n",
       "      <td>0.786</td>\n",
       "      <td>0.714</td>\n",
       "    </tr>\n",
       "    <tr>\n",
       "      <th>Precision</th>\n",
       "      <td>0.733</td>\n",
       "      <td>0.606</td>\n",
       "    </tr>\n",
       "    <tr>\n",
       "      <th>F1</th>\n",
       "      <td>0.759</td>\n",
       "      <td>0.656</td>\n",
       "    </tr>\n",
       "  </tbody>\n",
       "</table>\n",
       "</div>"
      ],
      "text/plain": [
       "           NeuralNetwork  DecissionTree\n",
       "Accuracy           0.827          0.741\n",
       "Recall             0.786          0.714\n",
       "Precision          0.733          0.606\n",
       "F1                 0.759          0.656"
      ]
     },
     "execution_count": 54,
     "metadata": {},
     "output_type": "execute_result"
    }
   ],
   "source": [
    "#Create dataframe for comparison of classic Tree model and Neural Network with embedding layers\n",
    "a = df_final.tail(1)\n",
    "b = a.reset_index()\n",
    "c=b.iloc[:,1:]\n",
    "d = c.transpose()\n",
    "tree_a = df_tree.transpose()\n",
    "df_comparison = pd.concat([d,tree_a],axis=1)\n",
    "df_comparison.columns = ['NeuralNetwork','DecissionTree']\n",
    "df_comparison"
   ]
  },
  {
   "cell_type": "markdown",
   "metadata": {},
   "source": [
    "<b>Plot comparison on a barchart</b>"
   ]
  },
  {
   "cell_type": "code",
   "execution_count": 55,
   "metadata": {},
   "outputs": [
    {
     "data": {
      "image/png": "[encoded data removed]",
      "text/plain": [
       "<Figure size 700x350 with 1 Axes>"
      ]
     },
     "metadata": {},
     "output_type": "display_data"
    }
   ],
   "source": [
    "fig, ax = plt.subplots(figsize=(10,5), dpi=70)\n",
    "NeuralNetwork = ax.bar(df_comparison.index,df_comparison['NeuralNetwork'],\n",
    "                 0.3, label=\"NeuralNetwork\")\n",
    "DecissionTree = ax.bar(df_comparison.index,df_comparison['DecissionTree'], 0.3,\n",
    "                label=\"DecissionTree\",align='edge')\n",
    "\n",
    "\n",
    "ax.set_xlabel('Metrics')\n",
    "ax.set_ylabel('Ratio')\n",
    "ax.legend()\n",
    "plt.show()"
   ]
  },
  {
   "cell_type": "code",
   "execution_count": null,
   "metadata": {},
   "outputs": [],
   "source": []
  },
  {
   "cell_type": "code",
   "execution_count": null,
   "metadata": {},
   "outputs": [],
   "source": []
  },
  {
   "cell_type": "code",
   "execution_count": null,
   "metadata": {},
   "outputs": [],
   "source": []
  },
  {
   "cell_type": "code",
   "execution_count": null,
   "metadata": {},
   "outputs": [],
   "source": []
  },
  {
   "cell_type": "code",
   "execution_count": null,
   "metadata": {},
   "outputs": [],
   "source": []
  },
  {
   "cell_type": "code",
   "execution_count": null,
   "metadata": {},
   "outputs": [],
   "source": []
  },
  {
   "cell_type": "code",
   "execution_count": null,
   "metadata": {},
   "outputs": [],
   "source": []
  }
 ],
 "metadata": {
  "kernelspec": {
   "display_name": "Python 3 (ipykernel)",
   "language": "python",
   "name": "python3"
  },
  "language_info": {
   "codemirror_mode": {
    "name": "ipython",
    "version": 3
   },
   "file_extension": ".py",
   "mimetype": "text/x-python",
   "name": "python",
   "nbconvert_exporter": "python",
   "pygments_lexer": "ipython3",
   "version": "3.8.16"
  }
 },
 "nbformat": 4,
 "nbformat_minor": 4
}
